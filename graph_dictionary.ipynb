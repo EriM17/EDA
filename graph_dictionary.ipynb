{
  "nbformat": 4,
  "nbformat_minor": 0,
  "metadata": {
    "colab": {
      "name": "graph-dictionary.ipynb",
      "provenance": [],
      "collapsed_sections": [],
      "authorship_tag": "ABX9TyOUSmtpGHFAu9ay0UqKLJAU",
      "include_colab_link": true
    },
    "kernelspec": {
      "name": "python3",
      "display_name": "Python 3"
    }
  },
  "cells": [
    {
      "cell_type": "markdown",
      "metadata": {
        "id": "view-in-github",
        "colab_type": "text"
      },
      "source": [
        "<a href=\"https://colab.research.google.com/github/isegura/EDA/blob/master/graph_dictionary.ipynb\" target=\"_parent\"><img src=\"https://colab.research.google.com/assets/colab-badge.svg\" alt=\"Open In Colab\"/></a>"
      ]
    },
    {
      "cell_type": "markdown",
      "metadata": {
        "id": "uQxlfbU9HpDd",
        "colab_type": "text"
      },
      "source": [
        "# Graph implementation using a Python dictionary\n",
        "\n"
      ]
    },
    {
      "cell_type": "code",
      "metadata": {
        "id": "vZEDjAUpHoda",
        "colab_type": "code",
        "colab": {}
      },
      "source": [
        "class Graph():\n",
        "    def __init__(self,labels):\n",
        "        self.labels=labels\n",
        "        self.vertices={}\n",
        "        for v in self.labels:\n",
        "            self.vertices[v]=[]\n",
        "    \n",
        "    def addEdge(self, start, end):\n",
        "        if start not in self.labels:\n",
        "            print(start,' does not exist!')\n",
        "            return\n",
        "        if end not in self.labels:\n",
        "            print(end,' does not exist!')\n",
        "            return\n",
        "        \n",
        "        self.vertices[start].append(end)\n",
        "    \n",
        "    def containEdge(self, start, end):\n",
        "        if start not in self.labels:\n",
        "            print(start,' does not exist!')\n",
        "            return False\n",
        "        if end not in self.labels:\n",
        "            print(end,' does not exist!')\n",
        "            return False\n",
        "\n",
        "        return end  in self.vertices[start]\n",
        "\n",
        "    def removeEdge(self, start, end):\n",
        "        if start not in self.labels:\n",
        "            print(start,' does not exist!')\n",
        "            return\n",
        "        if end not in self.labels:\n",
        "            print(end,' does not exist!')\n",
        "            return\n",
        "\n",
        "        if end in self.vertices[start]:\n",
        "            self.vertices[start].remove(end)\n",
        "\n",
        "    def __str__(self):\n",
        "        result=''\n",
        "        for v in self.labels:\n",
        "            result+='\\n'+str(v)+':'+str(self.vertices[v])\n",
        "            \n",
        "        return result\n",
        "           "
      ],
      "execution_count": 0,
      "outputs": []
    },
    {
      "cell_type": "markdown",
      "metadata": {
        "id": "Erk_WZezKbxt",
        "colab_type": "text"
      },
      "source": [
        "Now, we use the implementation to represent this directed and unweighted graph:\n",
        "\n",
        "\n",
        "<img src='https://upload.wikimedia.org/wikipedia/commons/thumb/1/1c/Directed_graph%2C_cyclic.svg/900px-Directed_graph%2C_cyclic.svg.png' width='35%'/>"
      ]
    },
    {
      "cell_type": "code",
      "metadata": {
        "id": "b2LDjiWdKffI",
        "colab_type": "code",
        "outputId": "1f6a71bd-5dc9-40e5-c5bc-776947b7c542",
        "colab": {
          "base_uri": "https://localhost:8080/",
          "height": 295
        }
      },
      "source": [
        "labels=['A','B','C','D','E','F']\n",
        "\n",
        "g=Graph(labels)\n",
        "\n",
        "#Now, we add the edges\n",
        "g.addEdge('A','B') #A->B\n",
        "g.addEdge('A','C') #B->C\n",
        "g.addEdge('A','E') #C->E\n",
        "g.addEdge('B','D') #D->B\n",
        "g.addEdge('B','E') #E->D\n",
        "g.addEdge('E','F') #E->F\n",
        "\n",
        "print(g)\n",
        "\n",
        "print(g.containEdge('A','C'))\n",
        "print(g.containEdge('B','C'))\n",
        "\n",
        "g.removeEdge('A','C')\n",
        "print(g)\n"
      ],
      "execution_count": 19,
      "outputs": [
        {
          "output_type": "stream",
          "text": [
            "\n",
            "A:['B', 'C', 'E']\n",
            "B:['D', 'E']\n",
            "C:[]\n",
            "D:[]\n",
            "E:['F']\n",
            "F:[]\n",
            "True\n",
            "False\n",
            "\n",
            "A:['B', 'E']\n",
            "B:['D', 'E']\n",
            "C:[]\n",
            "D:[]\n",
            "E:['F']\n",
            "F:[]\n"
          ],
          "name": "stdout"
        }
      ]
    },
    {
      "cell_type": "markdown",
      "metadata": {
        "id": "1PZqdqkyKktq",
        "colab_type": "text"
      },
      "source": [
        "#Exercise:\n",
        "The previous implementation allows us to represent unweighted and directed graphs. Can you modify it for using it to also represent weighted and undirected graphs.\n",
        "\n",
        "SOLUTION:\n",
        "https://github.com/isegura/EDA/blob/master/graph_dictionaryWD.ipynb"
      ]
    }
  ]
}