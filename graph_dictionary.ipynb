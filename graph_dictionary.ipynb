{
  "nbformat": 4,
  "nbformat_minor": 0,
  "metadata": {
    "colab": {
      "name": "graph-dictionary.ipynb",
      "provenance": [],
      "collapsed_sections": [],
      "authorship_tag": "ABX9TyNNPF4KJDnPSLh/wcfMK+pg",
      "include_colab_link": true
    },
    "kernelspec": {
      "name": "python3",
      "display_name": "Python 3"
    }
  },
  "cells": [
    {
      "cell_type": "markdown",
      "metadata": {
        "id": "view-in-github",
        "colab_type": "text"
      },
      "source": [
        "<a href=\"https://colab.research.google.com/github/isegura/EDA/blob/master/graph_dictionary.ipynb\" target=\"_parent\"><img src=\"https://colab.research.google.com/assets/colab-badge.svg\" alt=\"Open In Colab\"/></a>"
      ]
    },
    {
      "cell_type": "markdown",
      "metadata": {
        "id": "uQxlfbU9HpDd",
        "colab_type": "text"
      },
      "source": [
        "# Graph implementation using a Python dictionary\n",
        "\n"
      ]
    },
    {
      "cell_type": "code",
      "metadata": {
        "id": "vZEDjAUpHoda",
        "colab_type": "code",
        "colab": {}
      },
      "source": [
        "class Graph():\n",
        "  def __init__(self,numNodes):\n",
        "    self.vertices={}\n",
        "    for i in range(numNodes):\n",
        "      self.vertices[i]=[]\n",
        "    self.numNodes=numNodes\n",
        "    \n",
        "  def checkVertex(self,v):\n",
        "    return v>=0 and v<self.numNodes\n",
        "  \n",
        "  def addEdge(self, start, end):\n",
        "    if self.checkVertex(start)==False or self.checkVertex(end)==False:\n",
        "      print('wrong vertices')\n",
        "    else:\n",
        "      if end not in self.vertices[start]:\n",
        "        self.vertices[start].append(end)\n",
        "        \n",
        "  def containsEdge(self, start, end):\n",
        "    if self.checkVertex(start)==False or self.checkVertex(end)==False:\n",
        "      print('wrong vertices')\n",
        "    else:\n",
        "      return end in self.vertices[start]\n",
        "  \n",
        "  def removeEdge(self,start,end):\n",
        "    if self.checkVertex(start)==False or self.checkVertex(end)==False:\n",
        "      print('wrong vertices')\n",
        "    else:\n",
        "      if end in self.vertices[start]:\n",
        "        self.vertices[start].remove(end)\n",
        "  \n",
        "  def __str__(self):\n",
        "    result=''\n",
        "    for vertex in self.vertices.keys():\n",
        "      result+=str(vertex)+':'+str(self.vertices[vertex])+'\\n'\n",
        "    return result"
      ],
      "execution_count": 0,
      "outputs": []
    },
    {
      "cell_type": "code",
      "metadata": {
        "id": "sFOSe6hvKRkS",
        "colab_type": "code",
        "outputId": "4f1e7fcb-01bb-4c23-99c5-933959f24aec",
        "colab": {
          "base_uri": "https://localhost:8080/",
          "height": 235
        }
      },
      "source": [
        "g=Graph(5)\n",
        "print(g)\n",
        "g.addEdge(0,1); # The 0th element is A. The 1st element is B\n",
        "g.addEdge(5,-1)\n",
        "print(g)"
      ],
      "execution_count": 0,
      "outputs": [
        {
          "output_type": "stream",
          "text": [
            "0:[]\n",
            "1:[]\n",
            "2:[]\n",
            "3:[]\n",
            "4:[]\n",
            "\n",
            "wrong vertices\n",
            "0:[1]\n",
            "1:[]\n",
            "2:[]\n",
            "3:[]\n",
            "4:[]\n",
            "\n"
          ],
          "name": "stdout"
        }
      ]
    },
    {
      "cell_type": "markdown",
      "metadata": {
        "id": "Erk_WZezKbxt",
        "colab_type": "text"
      },
      "source": [
        "Now, we use the implementation to represent this graph:\n",
        "\n",
        "\n",
        "<img src='https://upload.wikimedia.org/wikipedia/commons/thumb/1/1c/Directed_graph%2C_cyclic.svg/900px-Directed_graph%2C_cyclic.svg.png' width='50%'/>"
      ]
    },
    {
      "cell_type": "code",
      "metadata": {
        "id": "b2LDjiWdKffI",
        "colab_type": "code",
        "outputId": "7868eed6-7cef-42ac-d46f-ce83cf779695",
        "colab": {
          "base_uri": "https://localhost:8080/",
          "height": 134
        }
      },
      "source": [
        "#we use this dictionary to represent the vertices with numbers:\n",
        "v={'A':0,'B':1,'C':2,'D':3,'E':4,'F':5}\n",
        "\n",
        "g=Graph(len(v.keys()))\n",
        "\n",
        "#Now, we add the edges\n",
        "g.addEdge(v['A'],v['B']) #A->B\n",
        "g.addEdge(v['B'],v['C']) #B->C\n",
        "g.addEdge(v['C'],v['E']) #C->E\n",
        "g.addEdge(v['D'],v['B']) #D->B\n",
        "g.addEdge(v['E'],v['D']) #E->D\n",
        "g.addEdge(v['E'],v['F']) #E->F\n",
        "\n",
        "\n",
        "print(g)\n"
      ],
      "execution_count": 0,
      "outputs": [
        {
          "output_type": "stream",
          "text": [
            "0:[1]\n",
            "1:[2]\n",
            "2:[4]\n",
            "3:[1]\n",
            "4:[3, 5]\n",
            "5:[]\n",
            "\n"
          ],
          "name": "stdout"
        }
      ]
    },
    {
      "cell_type": "markdown",
      "metadata": {
        "id": "1PZqdqkyKktq",
        "colab_type": "text"
      },
      "source": [
        "##Exercise:\n",
        "The previous implementation allows us to represent unweighted and directed graphs. Can you modify it for using it to also represent weighted and undirected graphs:"
      ]
    }
  ]
}