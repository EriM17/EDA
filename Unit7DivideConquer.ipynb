{
  "nbformat": 4,
  "nbformat_minor": 0,
  "metadata": {
    "colab": {
      "name": "Unit7DivideConquer.ipynb",
      "provenance": [],
      "collapsed_sections": [],
      "include_colab_link": true
    },
    "kernelspec": {
      "name": "python3",
      "display_name": "Python 3"
    }
  },
  "cells": [
    {
      "cell_type": "markdown",
      "metadata": {
        "id": "view-in-github",
        "colab_type": "text"
      },
      "source": [
        "<a href=\"https://colab.research.google.com/github/isegura/EDA/blob/master/Unit7DivideConquer.ipynb\" target=\"_parent\"><img src=\"https://colab.research.google.com/assets/colab-badge.svg\" alt=\"Open In Colab\"/></a>"
      ]
    },
    {
      "cell_type": "markdown",
      "metadata": {
        "id": "h8DDE22ayxJD",
        "colab_type": "text"
      },
      "source": [
        "# Divide and Conquer\n",
        "\n",
        "## 1) Find the maximum value in an array\n"
      ]
    },
    {
      "cell_type": "code",
      "metadata": {
        "id": "J3n5iGr5ywmu",
        "colab_type": "code",
        "outputId": "75ccf98c-37e1-4b56-c650-b1d69f16c20b",
        "colab": {
          "base_uri": "https://localhost:8080/",
          "height": 35
        }
      },
      "source": [
        "from random import randint\n",
        "\n",
        "\n",
        "def findMax(data):\n",
        "  if len(data)==1:\n",
        "    return data[0]\n",
        "  \n",
        "  mid=len(data)//2\n",
        "  #print(data[0:mid])\n",
        "  #print(data[mid:])\n",
        "  part1=data[0:mid]\n",
        "  part2=data[mid:]\n",
        "  max1=findMax(part1)\n",
        "  max2=findMax(part2)\n",
        "  return max(max1,max2)\n",
        "\n",
        "\n",
        "\n",
        "data=[]\n",
        "for i in range(10):\n",
        "  data.append(randint(-50,50))\n",
        "  \n",
        "print(\"The maximum element in {} is {} \".format(data,findMax(data)))\n",
        "\n",
        "  "
      ],
      "execution_count": 0,
      "outputs": [
        {
          "output_type": "stream",
          "text": [
            "The maximum element in [45, -40, 39, 33, -14, -15, 47, -35, 28, 18] is 47 \n"
          ],
          "name": "stdout"
        }
      ]
    },
    {
      "cell_type": "markdown",
      "metadata": {
        "id": "5vHjJwZZ2aBm",
        "colab_type": "text"
      },
      "source": [
        "## 2) Binary search\n",
        "\n",
        "Given a sorted list and a number, x, return True if x is found, False otherwise."
      ]
    },
    {
      "cell_type": "code",
      "metadata": {
        "id": "_CasRKVY2uwd",
        "colab_type": "code",
        "colab": {}
      },
      "source": [
        "def binarySearch(data,x):\n",
        "  \n",
        "  if len(data)==0:\n",
        "    return False\n",
        "  \n",
        "  mid=len(data)//2\n",
        "\n",
        "  if x==data[mid]:\n",
        "    return True\n",
        "  \n",
        "  if x<data[mid]:\n",
        "    #print(data[0:mid])\n",
        "    return binarySearch(data[0:mid],x)\n",
        "  \n",
        "  if x>data[mid]:\n",
        "    #print(data[mid:])\n",
        "    return binarySearch(data[mid+1:],x)\n",
        "   "
      ],
      "execution_count": 0,
      "outputs": []
    },
    {
      "cell_type": "code",
      "metadata": {
        "id": "vWmlByOMHYg4",
        "colab_type": "code",
        "outputId": "c913086a-b389-491f-adee-bb9ef6c78cb3",
        "colab": {
          "base_uri": "https://localhost:8080/",
          "height": 191
        }
      },
      "source": [
        "#we randomly create a list \n",
        "data=[]\n",
        "for i in range(10):\n",
        "    data.append(randint(0,100))\n",
        "#we sort it\n",
        "data.sort()\n",
        "\n",
        "\n",
        "for i in range(5):\n",
        "    x=randint(0,100)\n",
        "    print(\"binarySearch({},{})={}\\n\".format(data,x,binarySearch(data,x)))\n"
      ],
      "execution_count": 0,
      "outputs": [
        {
          "output_type": "stream",
          "text": [
            "binarySearch([1, 4, 38, 39, 40, 61, 69, 71, 81, 87],36)=False\n",
            "\n",
            "binarySearch([1, 4, 38, 39, 40, 61, 69, 71, 81, 87],49)=False\n",
            "\n",
            "binarySearch([1, 4, 38, 39, 40, 61, 69, 71, 81, 87],44)=False\n",
            "\n",
            "binarySearch([1, 4, 38, 39, 40, 61, 69, 71, 81, 87],44)=False\n",
            "\n",
            "binarySearch([1, 4, 38, 39, 40, 61, 69, 71, 81, 87],81)=True\n",
            "\n"
          ],
          "name": "stdout"
        }
      ]
    },
    {
      "cell_type": "markdown",
      "metadata": {
        "id": "sAww3w1pZp4F",
        "colab_type": "text"
      },
      "source": [
        "# 3) Merge sort\n"
      ]
    },
    {
      "cell_type": "code",
      "metadata": {
        "id": "gsLxwj6ZZsRS",
        "colab_type": "code",
        "colab": {}
      },
      "source": [
        "def mergesort(A):\n",
        "    \"returns a sorted list\"\n",
        "    if len(A)>1:\n",
        "        m=len(A)//2\n",
        "        part1=A[0:m]\n",
        "        part2=A[m:]\n",
        "        sorted1=mergesort(part1)\n",
        "        sorted2=mergesort(part2)\n",
        "        A=merge(part1,part2)\n",
        "    \n",
        "    return A\n",
        "    \n",
        "\n",
        "def merge(l1,l2):\n",
        "    \"\"\"merge two sorted list into one sorted list\"\"\"\n",
        "    result=[]\n",
        "    i=0\n",
        "    j=0\n",
        "    # Copy data to result from part1 and part2 \n",
        "    while i < len(l1) and j < len(l2): \n",
        "        if l1[i] <l2[j]: \n",
        "            result.append(l1[i])\n",
        "            i+=1\n",
        "        else: \n",
        "            result.append(l2[j])\n",
        "            j+=1\n",
        "          \n",
        "    # Checking if any element was left \n",
        "    while i < len(l1): \n",
        "        result.append(l1[i])\n",
        "        i+=1\n",
        "          \n",
        "    while j < len(l2): \n",
        "        result.append(l2[j])\n",
        "        j+=1\n",
        "        \n",
        "    return result\n",
        "\n",
        "\n"
      ],
      "execution_count": 0,
      "outputs": []
    },
    {
      "cell_type": "code",
      "metadata": {
        "id": "i0lg7FaTI1Fg",
        "colab_type": "code",
        "outputId": "bbd761f8-bfc7-4a59-9e08-aaf02cd13d73",
        "colab": {
          "base_uri": "https://localhost:8080/",
          "height": 52
        }
      },
      "source": [
        "#Test mergesort\n",
        "\n",
        "A=[5, 10, 1, 1, 10, 2, 2, 6, 10, 3]\n",
        "print('input=',A)\n",
        "\n",
        "\n",
        "print(\"sorted=\",mergesort(A))\n",
        "\n",
        "\n"
      ],
      "execution_count": 102,
      "outputs": [
        {
          "output_type": "stream",
          "text": [
            "input= [5, 10, 1, 1, 10, 2, 2, 6, 10, 3]\n",
            "sorted= [2, 2, 5, 6, 10, 3, 10, 1, 1, 10]\n"
          ],
          "name": "stdout"
        }
      ]
    },
    {
      "cell_type": "markdown",
      "metadata": {
        "id": "S2vxUynN47xR",
        "colab_type": "text"
      },
      "source": [
        "4) Quicksort\n",
        "\n"
      ]
    },
    {
      "cell_type": "code",
      "metadata": {
        "id": "ydXKsPYB49Pf",
        "colab_type": "code",
        "colab": {}
      },
      "source": [
        "def quicksort(data):\n",
        "    _quicksort(data,0,len(data)-1)\n",
        "    \n",
        "def _quicksort(data, left, right):\n",
        "    i = left\n",
        "    j = right\n",
        "    \n",
        "    m=(left + right) // 2\n",
        "    \n",
        "    p = data[m] # pivot element in the middle\n",
        "    \n",
        "    while i <= j:\n",
        "        while data[i] < p: \n",
        "          i += 1\n",
        "        while data[j] > p: \n",
        "          j -= 1\n",
        "        if i <= j: # swap \n",
        "            data[i], data[j] = data[j], data[i]\n",
        "            i += 1\n",
        "            j -= 1\n",
        "    \n",
        "    if left < j: # sort left list\n",
        "        _quicksort(data, left, j)\n",
        "    if i < right: # sort right list\n",
        "        _quicksort(data, i, right)\n",
        "\n"
      ],
      "execution_count": 0,
      "outputs": []
    },
    {
      "cell_type": "code",
      "metadata": {
        "id": "z9l61uRgOiCd",
        "colab_type": "code",
        "colab": {
          "base_uri": "https://localhost:8080/",
          "height": 52
        },
        "outputId": "f52f01a7-2ef2-42d4-9cff-6bec5a382ac1"
      },
      "source": [
        "#Test quicksort\n",
        "\n",
        "data = []\n",
        "for i in range(0, 10):\n",
        "    data.append(randint(0, 100))\n",
        "\n",
        "\n",
        "print('input:',data)\n",
        "quicksort(data)\n",
        "print('sorted:',data)\n"
      ],
      "execution_count": 104,
      "outputs": [
        {
          "output_type": "stream",
          "text": [
            "input: [13, 83, 37, 94, 12, 22, 57, 7, 95, 49]\n",
            "sorted: [7, 12, 13, 22, 37, 49, 57, 83, 94, 95]\n"
          ],
          "name": "stdout"
        }
      ]
    }
  ]
}