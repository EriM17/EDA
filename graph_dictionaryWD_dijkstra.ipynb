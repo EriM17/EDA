{
  "nbformat": 4,
  "nbformat_minor": 0,
  "metadata": {
    "colab": {
      "name": "graph-dictionaryWD-dijkstra.ipynb",
      "provenance": [],
      "collapsed_sections": [],
      "authorship_tag": "ABX9TyMZyI72Ug3tL/nBW/4J5wDv",
      "include_colab_link": true
    },
    "kernelspec": {
      "name": "python3",
      "display_name": "Python 3"
    }
  },
  "cells": [
    {
      "cell_type": "markdown",
      "metadata": {
        "id": "view-in-github",
        "colab_type": "text"
      },
      "source": [
        "<a href=\"https://colab.research.google.com/github/isegura/EDA/blob/master/graph_dictionaryWD_dijkstra.ipynb\" target=\"_parent\"><img src=\"https://colab.research.google.com/assets/colab-badge.svg\" alt=\"Open In Colab\"/></a>"
      ]
    },
    {
      "cell_type": "markdown",
      "metadata": {
        "id": "uQxlfbU9HpDd",
        "colab_type": "text"
      },
      "source": [
        "# Dijkstra’s shortest path algorithm"
      ]
    },
    {
      "cell_type": "code",
      "metadata": {
        "id": "vZEDjAUpHoda",
        "colab_type": "code",
        "colab": {}
      },
      "source": [
        "class AdjacentVertex:\n",
        "  def __init__(self,vertex,weight):\n",
        "    self.vertex=vertex\n",
        "    self.weight=weight\n",
        "  \n",
        "  def __str__(self):\n",
        "    return '('+str(self.vertex)+','+str(self.weight)+')'\n",
        "\n",
        "class Graph():\n",
        "  def __init__(self,numNodes,directed=True):\n",
        "    self.vertices={}\n",
        "    for i in range(numNodes):\n",
        "      self.vertices[i]=[]\n",
        "    self.numNodes=numNodes\n",
        "    self.directed=directed\n",
        "    \n",
        "  def checkVertex(self,v):\n",
        "    return v>=0 and v<self.numNodes\n",
        "  \n",
        "  def addEdge(self, start, end, weight=0):\n",
        "    if self.checkVertex(start)==False or self.checkVertex(end)==False:\n",
        "      print('wrong vertices')\n",
        "    else:\n",
        "      if end not in self.vertices[start]:\n",
        "        self.vertices[start].append(AdjacentVertex(end,weight))\n",
        "        if self.directed==False:\n",
        "          self.vertices[end].append(AdjacentVertex(start,weight))\n",
        "\n",
        "        \n",
        "  def containsEdge(self, start, end):\n",
        "    if self.checkVertex(start)==False or self.checkVertex(end)==False:\n",
        "      print('wrong vertices')\n",
        "    else:\n",
        "      return end in self.vertices[start]\n",
        "  \n",
        "  def removeEdge(self,start,end):\n",
        "    if self.checkVertex(start)==False or self.checkVertex(end)==False:\n",
        "      print('wrong vertices')\n",
        "    else:\n",
        "      if end in self.vertices[start]:\n",
        "        self.vertices[start].remove(end)\n",
        "      if self.directed==False:\n",
        "          self.vertices[start].append(end)\n",
        "  \n",
        "  def __str__(self):\n",
        "    result=''\n",
        "    for vertex in self.vertices.keys():\n",
        "      result+=str(vertex)+':'\n",
        "      for adj in self.vertices[vertex]:\n",
        "        result+=str(adj)+','\n",
        "      if result[-1]==',':\n",
        "        result=result[:-1]\n",
        "      result+='\\n'\n",
        "    return result"
      ],
      "execution_count": 0,
      "outputs": []
    },
    {
      "cell_type": "markdown",
      "metadata": {
        "id": "kakSwjER_qwe",
        "colab_type": "text"
      },
      "source": [
        "## Shortest path algorithm"
      ]
    },
    {
      "cell_type": "code",
      "metadata": {
        "id": "IEuPowAV_vFH",
        "colab_type": "code",
        "colab": {}
      },
      "source": [
        "import sys\n",
        "\n",
        "class GraphDijkstra(Graph):\n",
        "\n",
        "  def __init__(self,numNodes,directed=True,labels={}):\n",
        "    super().__init__(numNodes,directed)\n",
        "    if len(labels)==0:\n",
        "      for i in range(numNodes):\n",
        "        labels[i]=i\n",
        "    else:\n",
        "      self.labels=labels\n",
        "\n",
        "  def printSolution(self,distances,previous,v): \n",
        "    print(\"Mininum path from \",v)\n",
        "    for i in range(self.numNodes):\n",
        "      if distances[i]==sys.maxsize:\n",
        "        print(\"There is not path from \",v,' to ',i)\n",
        "      else: \n",
        "        minimum_path=[]\n",
        "        prev=previous[i]\n",
        "        while prev!=-1:\n",
        "          minimum_path.insert(0,labels[prev])\n",
        "          prev=previous[prev]\n",
        "        \n",
        "        minimum_path.append(labels[i])  \n",
        "\n",
        "        print(v,'->',i,\":\", distances[i],minimum_path) \n",
        "\n",
        "  def minDistance(self, distances, visited): \n",
        "    \"\"\"This functions returns the vertex (index) with the mininum distance. We \n",
        "    only consider the set of vertices that have not been visited\"\"\"\n",
        "    # Initilaize minimum distance for next node \n",
        "    min = sys.maxsize \n",
        "\n",
        "    #returns the vertex with minimum distance from the non-visited vertices\n",
        "    for i in range(self.numNodes): \n",
        "      if distances[i] <= min and visited[i] == False: \n",
        "        min = distances[i] \n",
        "        min_index = i \n",
        "  \n",
        "    return min_index \n",
        "  \n",
        "  \n",
        "  def dijkstra(self, v=0): \n",
        "    \"\"\"\"This function takes a vertex v and calculates its mininum path \n",
        "    to the rest of vertices by using the Dijkstra algoritm\"\"\"  \n",
        "    \n",
        "    #we use a Python list of boolean to save those nodes that have already been visited  \n",
        "    visited = [False] * self.numNodes \n",
        "\n",
        "    #this list will save the previous vertex \n",
        "    previous=[-1]*self.numNodes\n",
        "\n",
        "    #This array will save the accumulate distance from v to each node\n",
        "    distances = [sys.maxsize] * self.numNodes\n",
        "    #The distance from v to itself is 0\n",
        "    distances[v] = 0\n",
        "\n",
        "    for i in range(self.numNodes): \n",
        "      # Pick the vertex with the minimum distance vertex.\n",
        "      # u is always equal to v in first iteration \n",
        "      u = self.minDistance(distances, visited) \n",
        "      # Put the minimum distance vertex in the shotest path tree\n",
        "      visited[u] = True\n",
        "      \n",
        "      # Update distance value of the u's adjacent vertices only if the current  \n",
        "      # distance is greater than new distance and the vertex in not in the shotest path tree \n",
        "      for adj in self.vertices[u]:\n",
        "        i=adj.vertex\n",
        "        w=adj.weight\n",
        "        if visited[i]==False and distances[i]>distances[u]+w:\n",
        "          distances[i]=distances[u]+w   \n",
        "          previous[i]=u       \n",
        "          \n",
        "  \n",
        "    self.printSolution(distances,previous,v) \n",
        "\n",
        " \n",
        "  \n",
        "   "
      ],
      "execution_count": 0,
      "outputs": []
    },
    {
      "cell_type": "markdown",
      "metadata": {
        "id": "Erk_WZezKbxt",
        "colab_type": "text"
      },
      "source": [
        "Now, we use the implementation to represent this graph: \n",
        "\n",
        "<img src='https://upload.wikimedia.org/wikipedia/commons/thumb/b/bc/CPT-Graphs-directed-weighted-ex1.svg/722px-CPT-Graphs-directed-weighted-ex1.svg.png' width='25%'/>"
      ]
    },
    {
      "cell_type": "code",
      "metadata": {
        "id": "b2LDjiWdKffI",
        "colab_type": "code",
        "outputId": "89113036-2d13-4add-b6ce-0a55996ffd1e",
        "colab": {
          "base_uri": "https://localhost:8080/",
          "height": 221
        }
      },
      "source": [
        "#we use this dictionary to represent the vertices with numbers:\n",
        "labels={0:'A',1:'B',2:'C',3:'D',4:'E'}\n",
        "\n",
        "g=GraphDijkstra(len(labels),True,labels)\n",
        "\n",
        "#Now, we add the edges\n",
        "g.addEdge(0,2,12) #A->(12)C\n",
        "g.addEdge(0,3,60) #A->(60)D\n",
        "g.addEdge(1,0,10) #B->(10)A\n",
        "g.addEdge(2,1,20) #C->(20)B\n",
        "g.addEdge(2,3,32) #C->(32)D\n",
        "g.addEdge(4,1,7)  #E->(7)A\n",
        "\n",
        "print(g)\n",
        "\n",
        "g.dijkstra()"
      ],
      "execution_count": 50,
      "outputs": [
        {
          "output_type": "stream",
          "text": [
            "0:(2,12),(3,60)\n",
            "1:(0,10)\n",
            "2:(1,20),(3,32)\n",
            "3:\n",
            "4:(1,7)\n",
            "\n",
            "Mininum path from  0\n",
            "0 -> 0 : 0 ['A']\n",
            "0 -> 1 : 32 ['A', 'C', 'B']\n",
            "0 -> 2 : 12 ['A', 'C']\n",
            "0 -> 3 : 44 ['A', 'C', 'D']\n",
            "There is not path from  0  to  4\n"
          ],
          "name": "stdout"
        }
      ]
    },
    {
      "cell_type": "markdown",
      "metadata": {
        "id": "tdvqwwPTTk7J",
        "colab_type": "text"
      },
      "source": [
        "## Exercise: \n",
        "\n",
        "Calculate the minimum path from a to the rest of the vertices in this graph:\n",
        "\n",
        "<img src='https://www.bogotobogo.com/python/images/Dijkstra/graph_diagram.png' src='25%'/>"
      ]
    },
    {
      "cell_type": "code",
      "metadata": {
        "id": "WFb0S36YT3_p",
        "colab_type": "code",
        "colab": {
          "base_uri": "https://localhost:8080/",
          "height": 255
        },
        "outputId": "c0698f02-dac9-4122-cdde-0c648c73a23b"
      },
      "source": [
        "#we use this dictionary to represent the vertices with numbers:\n",
        "\n",
        "labels={0:'a',1:'b',2:'c',3:'d',4:'e',5:'f'}\n",
        "v={'a':0,'b':1,'c':2,'d':3,'e':4,'f':5}\n",
        "\n",
        "g=GraphDijkstra(len(v),False,labels)\n",
        "\n",
        "#Now, we add the edges\n",
        "g.addEdge(v['a'],v['b'],7) \n",
        "g.addEdge(v['a'],v['c'],9) \n",
        "g.addEdge(v['a'],v['f'],14) \n",
        "g.addEdge(v['b'],v['c'],10) \n",
        "g.addEdge(v['b'],v['d'],15) \n",
        "g.addEdge(v['c'],v['d'],11)  \n",
        "g.addEdge(v['c'],v['f'],2)\n",
        "g.addEdge(v['d'],v['e'],6)\n",
        "g.addEdge(v['e'],v['f'],9)\n",
        "\n",
        "\n",
        "\n",
        "print(g)\n",
        "\n",
        "g.dijkstra()"
      ],
      "execution_count": 52,
      "outputs": [
        {
          "output_type": "stream",
          "text": [
            "0:(1,7),(2,9),(5,14)\n",
            "1:(0,7),(2,10),(3,15)\n",
            "2:(0,9),(1,10),(3,11),(5,2)\n",
            "3:(1,15),(2,11),(4,6)\n",
            "4:(3,6),(5,9)\n",
            "5:(0,14),(2,2),(4,9)\n",
            "\n",
            "Mininum path from  0\n",
            "0 -> 0 : 0 ['a']\n",
            "0 -> 1 : 7 ['a', 'b']\n",
            "0 -> 2 : 9 ['a', 'c']\n",
            "0 -> 3 : 20 ['a', 'c', 'd']\n",
            "0 -> 4 : 20 ['a', 'c', 'f', 'e']\n",
            "0 -> 5 : 11 ['a', 'c', 'f']\n"
          ],
          "name": "stdout"
        }
      ]
    }
  ]
}