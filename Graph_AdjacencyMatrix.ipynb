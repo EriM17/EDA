{
  "nbformat": 4,
  "nbformat_minor": 0,
  "metadata": {
    "colab": {
      "name": "Graph-AdjacencyMatrix.ipynb",
      "provenance": [],
      "collapsed_sections": [],
      "authorship_tag": "ABX9TyMCYq9qvl7dP84iuByosu2e",
      "include_colab_link": true
    },
    "kernelspec": {
      "name": "python3",
      "display_name": "Python 3"
    }
  },
  "cells": [
    {
      "cell_type": "markdown",
      "metadata": {
        "id": "view-in-github",
        "colab_type": "text"
      },
      "source": [
        "<a href=\"https://colab.research.google.com/github/isegura/EDA/blob/master/Graph_AdjacencyMatrix.ipynb\" target=\"_parent\"><img src=\"https://colab.research.google.com/assets/colab-badge.svg\" alt=\"Open In Colab\"/></a>"
      ]
    },
    {
      "cell_type": "markdown",
      "metadata": {
        "id": "WByQ9yUB9TD0",
        "colab_type": "text"
      },
      "source": [
        "# Adjacency Matrix \n",
        "A graph can be represented using an adjacency matrix. In this tutorial, we see how to learn to implement graphs based on adjacency matrices. We focus on directed and unweighted graph\n",
        "\n",
        "\n",
        "https://medium.com/techmacademy/graphs-adjacency-matrix-behind-the-scenes-visual-tour-6512493912c0"
      ]
    },
    {
      "cell_type": "code",
      "metadata": {
        "id": "04E-EuC89Rsj",
        "colab_type": "code",
        "colab": {}
      },
      "source": [
        "class Graph(object):\n",
        "\tdef __init__(self,numNodes):\n",
        "\t\tself.adjacencyMatrix = [] # 2D list\n",
        "    \n",
        "\t\tfor i in range(numNodes): \n",
        "\t\t\tself.adjacencyMatrix.append([0 for i in range(numNodes)])\n",
        "\t\tself.numNodes = numNodes\n",
        "\t\t\n",
        "\tdef checkVertex(self,v):\n",
        "\t\treturn v>=0 and v<self.numNodes\n",
        "\n",
        "\tdef addEdge(self, start, end):\n",
        "\t\tif self.checkVertex(start)==False or self.checkVertex(end)==False:\n",
        "\t\t\tprint('wrong vertices')\n",
        "\t\telse:\n",
        "\t\t\tself.adjacencyMatrix[start][end] = 1\n",
        "\n",
        "\n",
        "\tdef containsEdge(self, start, end):\n",
        "\t\tif self.checkVertex(start)==False or self.checkVertex(end)==False:\n",
        "\t\t\tprint('wrong vertices')\n",
        "\t\telse:\n",
        "\t\t\treturn self.adjacencyMatrix[start][end] != 0\n",
        "\n",
        "\tdef removeEdge(self,start,end):\n",
        "\t\tif self.checkVertex(start)==False or self.checkVertex(end)==False:\n",
        "\t\t\tprint('wrong vertices')\n",
        "\t\telse:\n",
        "\t\t\tself.adjacencyMatrix[start][end] = 0\n",
        "\t\t\n",
        "\n",
        "\tdef __str__(self):\n",
        "\t\tresult=''\n",
        "\t\tfor row in self.adjacencyMatrix:\n",
        "\t\t\tresult+=str(row)+'\\n'\n",
        "\t\t\n",
        "\t\treturn result"
      ],
      "execution_count": 0,
      "outputs": []
    },
    {
      "cell_type": "code",
      "metadata": {
        "id": "xoqwNGnv9y9x",
        "colab_type": "code",
        "outputId": "4175c635-b319-4111-ee96-a16c1c3b499a",
        "colab": {
          "base_uri": "https://localhost:8080/",
          "height": 235
        }
      },
      "source": [
        "g=Graph(5)\n",
        "print(g)\n",
        "g.addEdge(0,1); # The 0th element is A. The 1st element is B\n",
        "g.addEdge(5,-1)\n",
        "print(g)"
      ],
      "execution_count": 2,
      "outputs": [
        {
          "output_type": "stream",
          "text": [
            "[0, 0, 0, 0, 0]\n",
            "[0, 0, 0, 0, 0]\n",
            "[0, 0, 0, 0, 0]\n",
            "[0, 0, 0, 0, 0]\n",
            "[0, 0, 0, 0, 0]\n",
            "\n",
            "wrong vertices\n",
            "[0, 1, 0, 0, 0]\n",
            "[0, 0, 0, 0, 0]\n",
            "[0, 0, 0, 0, 0]\n",
            "[0, 0, 0, 0, 0]\n",
            "[0, 0, 0, 0, 0]\n",
            "\n"
          ],
          "name": "stdout"
        }
      ]
    },
    {
      "cell_type": "markdown",
      "metadata": {
        "id": "DjHmAOAU_zQ8",
        "colab_type": "text"
      },
      "source": [
        "Now, we use the implementation to represent this graph:\n",
        "\n",
        "\n",
        "<img src='https://upload.wikimedia.org/wikipedia/commons/thumb/1/1c/Directed_graph%2C_cyclic.svg/900px-Directed_graph%2C_cyclic.svg.png' width='50%'/>"
      ]
    },
    {
      "cell_type": "code",
      "metadata": {
        "id": "4zA4vgkaAyUi",
        "colab_type": "code",
        "outputId": "b106fa7c-4ac6-4398-991b-0b8783f69ce5",
        "colab": {
          "base_uri": "https://localhost:8080/",
          "height": 134
        }
      },
      "source": [
        "#we use this dictionary to represent the vertices with numbers:\n",
        "v={'A':0,'B':1,'C':2,'D':3,'E':4,'F':5}\n",
        "\n",
        "g=Graph(len(v.keys()))\n",
        "\n",
        "#Now, we add the edges\n",
        "g.addEdge(v['A'],v['B']) #A->B\n",
        "g.addEdge(v['B'],v['C']) #B->C\n",
        "g.addEdge(v['C'],v['E']) #C->E\n",
        "g.addEdge(v['D'],v['B']) #D->B\n",
        "g.addEdge(v['E'],v['D']) #E->D\n",
        "g.addEdge(v['E'],v['F']) #E->F\n",
        "\n",
        "\n",
        "print(g)\n",
        "\n"
      ],
      "execution_count": 3,
      "outputs": [
        {
          "output_type": "stream",
          "text": [
            "[0, 1, 0, 0, 0, 0]\n",
            "[0, 0, 1, 0, 0, 0]\n",
            "[0, 0, 0, 0, 1, 0]\n",
            "[0, 1, 0, 0, 0, 0]\n",
            "[0, 0, 0, 1, 0, 1]\n",
            "[0, 0, 0, 0, 0, 0]\n",
            "\n"
          ],
          "name": "stdout"
        }
      ]
    },
    {
      "cell_type": "markdown",
      "metadata": {
        "id": "W2DyaTrUJC-p",
        "colab_type": "text"
      },
      "source": [
        "##Exercise:\n",
        "The previous implementation allows us to represent unweighted and directed graphs. Can you modify it for using it to also represent weighted and undirected graphs:\n",
        "\n",
        "Solution: \n",
        "https://github.com/isegura/EDA/blob/master/Graph_AdjacencyMatrixWD.ipynb"
      ]
    }
  ]
}