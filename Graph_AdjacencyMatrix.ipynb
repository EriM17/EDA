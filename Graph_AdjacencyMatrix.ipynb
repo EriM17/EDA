{
  "nbformat": 4,
  "nbformat_minor": 0,
  "metadata": {
    "colab": {
      "name": "Graph-AdjacencyMatrix.ipynb",
      "provenance": [],
      "collapsed_sections": [],
      "authorship_tag": "ABX9TyMabgUcu5SCPnNl8Ua3edgM",
      "include_colab_link": true
    },
    "kernelspec": {
      "name": "python3",
      "display_name": "Python 3"
    }
  },
  "cells": [
    {
      "cell_type": "markdown",
      "metadata": {
        "id": "view-in-github",
        "colab_type": "text"
      },
      "source": [
        "<a href=\"https://colab.research.google.com/github/isegura/EDA/blob/master/Graph_AdjacencyMatrix.ipynb\" target=\"_parent\"><img src=\"https://colab.research.google.com/assets/colab-badge.svg\" alt=\"Open In Colab\"/></a>"
      ]
    },
    {
      "cell_type": "markdown",
      "metadata": {
        "id": "WByQ9yUB9TD0",
        "colab_type": "text"
      },
      "source": [
        "# Adjacency Matrix \n",
        "A graph can be represented using an adjacency matrix. In this tutorial, we see how to learn to implement graphs based on adjacency matrices. We focus on directed and unweighted graph\n",
        "\n",
        "\n",
        "https://medium.com/techmacademy/graphs-adjacency-matrix-behind-the-scenes-visual-tour-6512493912c0"
      ]
    },
    {
      "cell_type": "code",
      "metadata": {
        "id": "04E-EuC89Rsj",
        "colab_type": "code",
        "colab": {}
      },
      "source": [
        "class Graph(object):\n",
        "\tdef __init__(self,labels):\n",
        "\t\tself.adjacencyMatrix = [] # 2D list\n",
        "    \n",
        "\t\tself.labels=labels\n",
        "\t\tself.numNodes = len(labels)\n",
        "\n",
        "\t\tfor i in range(self.numNodes): \n",
        "\t\t\tself.adjacencyMatrix.append([0 for i in range(self.numNodes)])\n",
        "\t\t\n",
        "\t\n",
        "\tdef _getIndex(self,v):\n",
        "\t\tindex=-1\n",
        "\t\ttry:\n",
        "\t\t\tindex=self.labels.index(v)\n",
        "\t\texcept:\n",
        "\t\t\tprint(v,' is not a vertex!!!')\n",
        "\t\t\tpass\n",
        "\t\treturn index\n",
        "\n",
        "\tdef addEdge(self, start, end):\n",
        "\t\tindex_start=self._getIndex(start)\n",
        "\t\tif index_start==-1:\n",
        "\t\t\treturn\n",
        "\t\tindex_end=self._getIndex(end)\n",
        "\t\tif index_end==-1:\n",
        "\t\t\treturn\n",
        "\t\tself.adjacencyMatrix[index_start][index_end] = 1\n",
        "\n",
        "\n",
        "\tdef containsEdge(self, start, end):\n",
        "\t\tindex_start=self._getIndex(start)\n",
        "\t\tif index_start==-1:\n",
        "\t\t\treturn False\n",
        "\t\tindex_end=self._getIndex(end)\n",
        "\t\tif index_end==-1:\n",
        "\t\t\treturn False\n",
        "\t\t\n",
        "\t\treturn self.adjacencyMatrix[index_start][index_end] != 0\n",
        "\n",
        "\tdef removeEdge(self,start,end):\n",
        "\t\tindex_start=self._getIndex(start)\n",
        "\t\tif index_start==-1:\n",
        "\t\t\treturn \n",
        "\t\tindex_end=self._getIndex(end)\n",
        "\t\tif index_end==-1:\n",
        "\t\t\treturn \n",
        "\n",
        "\t\tself.adjacencyMatrix[index_start][index_end] = 0\n",
        "\t\t\n",
        "\n",
        "\tdef __str__(self):\n",
        "\t\tresult=''\n",
        "\t\tfor row in self.adjacencyMatrix:\n",
        "\t\t\tresult+=str(row)+'\\n'\n",
        "\t\t\n",
        "\t\treturn result"
      ],
      "execution_count": 0,
      "outputs": []
    },
    {
      "cell_type": "markdown",
      "metadata": {
        "id": "DjHmAOAU_zQ8",
        "colab_type": "text"
      },
      "source": [
        "Now, we use the implementation to represent this directed and unweighted graph:\n",
        "\n",
        "\n",
        "<img src='https://upload.wikimedia.org/wikipedia/commons/thumb/1/1c/Directed_graph%2C_cyclic.svg/900px-Directed_graph%2C_cyclic.svg.png' width='35%'/>"
      ]
    },
    {
      "cell_type": "code",
      "metadata": {
        "id": "4zA4vgkaAyUi",
        "colab_type": "code",
        "outputId": "1971406e-095e-488b-9b25-020732227c6a",
        "colab": {
          "base_uri": "https://localhost:8080/",
          "height": 139
        }
      },
      "source": [
        "labels=['A','B','C','D','E','F']\n",
        "\n",
        "g=Graph(labels)\n",
        "\n",
        "#Now, we add the edges\n",
        "g.addEdge('A','B') #A->B\n",
        "g.addEdge('B','C') #B->C\n",
        "g.addEdge('C','E') #C->E\n",
        "g.addEdge('D','B') #D->B\n",
        "g.addEdge('E','D') #E->D\n",
        "g.addEdge('E','F') #E->D\n",
        "\n",
        "print(g)\n"
      ],
      "execution_count": 39,
      "outputs": [
        {
          "output_type": "stream",
          "text": [
            "[0, 1, 0, 0, 0, 0]\n",
            "[0, 0, 1, 0, 0, 0]\n",
            "[0, 0, 0, 0, 1, 0]\n",
            "[0, 1, 0, 0, 0, 0]\n",
            "[0, 0, 0, 1, 0, 1]\n",
            "[0, 0, 0, 0, 0, 0]\n",
            "\n"
          ],
          "name": "stdout"
        }
      ]
    },
    {
      "cell_type": "markdown",
      "metadata": {
        "id": "W2DyaTrUJC-p",
        "colab_type": "text"
      },
      "source": [
        "##Exercise:\n",
        "The previous implementation allows us to represent unweighted and directed graphs. Can you modify it for using it to also represent weighted and undirected graphs:\n",
        "\n",
        "Solution: \n",
        "https://github.com/isegura/EDA/blob/master/Graph_AdjacencyMatrixWD.ipynb"
      ]
    }
  ]
}