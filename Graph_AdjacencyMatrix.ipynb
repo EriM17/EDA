{
  "nbformat": 4,
  "nbformat_minor": 0,
  "metadata": {
    "colab": {
      "name": "Graph-AdjacencyMatrix.ipynb",
      "provenance": [],
      "collapsed_sections": [],
      "authorship_tag": "ABX9TyObxnK39Non2rfRW9UwVQV3",
      "include_colab_link": true
    },
    "kernelspec": {
      "name": "python3",
      "display_name": "Python 3"
    }
  },
  "cells": [
    {
      "cell_type": "markdown",
      "metadata": {
        "id": "view-in-github",
        "colab_type": "text"
      },
      "source": [
        "<a href=\"https://colab.research.google.com/github/isegura/EDA/blob/master/Graph_AdjacencyMatrix.ipynb\" target=\"_parent\"><img src=\"https://colab.research.google.com/assets/colab-badge.svg\" alt=\"Open In Colab\"/></a>"
      ]
    },
    {
      "cell_type": "markdown",
      "metadata": {
        "id": "WByQ9yUB9TD0",
        "colab_type": "text"
      },
      "source": [
        "# Adjacency Matrix \n",
        "A graph can be represented using an adjacency matrix. In this tutorial, we see how to learn to implement graphs based on adjacency matrices. We focus on directed and unweighted graph\n",
        "\n",
        "\n",
        "https://medium.com/techmacademy/graphs-adjacency-matrix-behind-the-scenes-visual-tour-6512493912c0"
      ]
    },
    {
      "cell_type": "code",
      "metadata": {
        "id": "04E-EuC89Rsj",
        "colab_type": "code",
        "colab": {}
      },
      "source": [
        "class Graph(object):\n",
        "\tdef __init__(self,labels):\n",
        "\t\t#labels is the set of vertices\n",
        "\t\tself.labels=labels\n",
        "\n",
        "\n",
        "\t\tself.adjacencyMatrix = [] # 2D list\n",
        "\t\tself.numNodes = len(labels)\n",
        "\t\t#we initializae the matrix with 0s\n",
        "\t\tfor i in range(self.numNodes): \n",
        "\t\t\tself.adjacencyMatrix.append([0 for i in range(self.numNodes)])\n",
        "\t\t\n",
        "\t\n",
        "\tdef _getIndex(self,v):\n",
        "\t\t\"\"\"returns the index of the vertex (label) v. If v does not exist, \n",
        "\t\tit shows an error message and returns -1\"\"\"\n",
        "\t\tindex=-1\n",
        "\t\ttry:\n",
        "\t\t\tindex=self.labels.index(v)\n",
        "\t\texcept:\n",
        "\t\t\tprint(v,' is not a vertex!!!')\n",
        "\t\t\tpass\n",
        "\t\treturn index\n",
        "\n",
        "\tdef addEdge(self,start,end):\n",
        "\t\t\"\"\"adds an edge from start to end exists.\"\"\"\n",
        "\t\t#first, we have to get their indeces\n",
        "\t\tindexS=self._getIndex(start)\n",
        "\t\tindexE=self._getIndex(end)\n",
        "\t\tif indexS==-1 or indexE==-1:\n",
        "\t\t\treturn\n",
        "\t\t#now, we modify its element in the matrix \n",
        "\t\tself.adjacencyMatrix[indexS][indexE]=1\n",
        "\n",
        "\tdef containEdge(self,start,end):\n",
        "\t\t\"\"\"checks if the edge from start to end exists.\"\"\"\n",
        "\t\tindexS=self._getIndex(start)\n",
        "\t\tindexE=self._getIndex(end)\n",
        "\t\tif indexS==-1 or indexE==-1:\n",
        "\t\t\treturn False\n",
        "\t\treturn self.adjacencyMatrix[indexS][indexE]==1\n",
        "\n",
        "\tdef removeEdge(self,start,end):\n",
        "\t\t\"\"\"removes the edge from start to end. It must\n",
        "\t\tmodify its corresponding element in the matrix to 0.\"\"\"\n",
        "\t\tindexS=self._getIndex(start)\n",
        "\t\tindexE=self._getIndex(end)\n",
        "\t\tif indexS==-1 or indexE==-1:\n",
        "\t\t\treturn \n",
        "\t\tself.adjacencyMatrix[indexS][indexE]=0\n",
        "\n",
        "\tdef __str__(self):\n",
        "\t\t\"\"\"returns the matrix\"\"\"\n",
        "\t\tresult=' '\n",
        "\t\tfor l in self.labels:\n",
        "\t\t\tresult+='  ' + l\n",
        "\n",
        "\t\tresult+='\\n'\n",
        "\n",
        "\t\tfor i,row in enumerate(self.adjacencyMatrix):\n",
        "\t\t\tresult+=self.labels[i]+' ' +str(row)+'\\n'\n",
        "\t\t\n",
        "\t\treturn result"
      ],
      "execution_count": 0,
      "outputs": []
    },
    {
      "cell_type": "markdown",
      "metadata": {
        "id": "DjHmAOAU_zQ8",
        "colab_type": "text"
      },
      "source": [
        "Now, we use the implementation to represent this directed and unweighted graph:\n",
        "\n",
        "\n",
        "<img src='https://upload.wikimedia.org/wikipedia/commons/thumb/1/1c/Directed_graph%2C_cyclic.svg/900px-Directed_graph%2C_cyclic.svg.png' width='35%'/>"
      ]
    },
    {
      "cell_type": "code",
      "metadata": {
        "id": "4zA4vgkaAyUi",
        "colab_type": "code",
        "outputId": "627e5719-6e5b-4ec9-e3bc-20416b652f86",
        "colab": {
          "base_uri": "https://localhost:8080/",
          "height": 156
        }
      },
      "source": [
        "labels=['A','B','C','D','E','F']\n",
        "\n",
        "g=Graph(labels)\n",
        "\n",
        "#Now, we add the edges\n",
        "g.addEdge('A','B') #A->B\n",
        "g.addEdge('B','C') #B->C\n",
        "g.addEdge('C','E') #C->E\n",
        "g.addEdge('D','B') #D->B\n",
        "g.addEdge('E','D') #E->D\n",
        "g.addEdge('E','F') #E->D\n",
        "\n",
        "print(g)\n"
      ],
      "execution_count": 43,
      "outputs": [
        {
          "output_type": "stream",
          "text": [
            "   A  B  C  D  E  F\n",
            "A [0, 1, 0, 0, 0, 0]\n",
            "B [0, 0, 1, 0, 0, 0]\n",
            "C [0, 0, 0, 0, 1, 0]\n",
            "D [0, 1, 0, 0, 0, 0]\n",
            "E [0, 0, 0, 1, 0, 1]\n",
            "F [0, 0, 0, 0, 0, 0]\n",
            "\n"
          ],
          "name": "stdout"
        }
      ]
    },
    {
      "cell_type": "markdown",
      "metadata": {
        "id": "W2DyaTrUJC-p",
        "colab_type": "text"
      },
      "source": [
        "##Exercise:\n",
        "The previous implementation allows us to represent unweighted and directed graphs. Can you modify it for using it to also represent weighted and undirected graphs:\n",
        "\n",
        "Solution: \n",
        "https://github.com/isegura/EDA/blob/master/Graph_AdjacencyMatrixWD.ipynb"
      ]
    }
  ]
}