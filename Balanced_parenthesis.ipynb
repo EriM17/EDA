{
  "nbformat": 4,
  "nbformat_minor": 0,
  "metadata": {
    "colab": {
      "name": "Balanced parenthesis.ipynb",
      "provenance": [],
      "collapsed_sections": [],
      "include_colab_link": true
    },
    "kernelspec": {
      "name": "python3",
      "display_name": "Python 3"
    }
  },
  "cells": [
    {
      "cell_type": "markdown",
      "metadata": {
        "id": "view-in-github",
        "colab_type": "text"
      },
      "source": [
        "<a href=\"https://colab.research.google.com/github/isegura/EDA/blob/master/Balanced_parenthesis.ipynb\" target=\"_parent\"><img src=\"https://colab.research.google.com/assets/colab-badge.svg\" alt=\"Open In Colab\"/></a>"
      ]
    },
    {
      "cell_type": "markdown",
      "metadata": {
        "id": "uhN9m7p7naRW"
      },
      "source": [
        "#Balanced parenthesis (Weekly task)\n",
        "\n",
        "\n",
        "Detecting when the parenthesis in an expression are correctly balanced or not is an important task to recognize many programming language structures (i.e. to evaluate arithmetic or logical expressions).\n",
        "\n",
        "\n",
        "In logical and arithmetic expressions, parentheses must appear in a balanced way. In other words:\n",
        "- 1) each opening symbol has a corresponding closing symbol and \n",
        "- 2) the pairs of parentheses are properly nested. \n",
        "\n",
        "The following table shows examples of balanced and non balanced expressions of parenthesis:\n",
        "\n",
        "| Balanced  | Non balanced |\n",
        "| --- | --- | \n",
        "| (()()()()) | ((((((())|\n",
        "|(((()))) | ())) |\n",
        "| (()((())())) | (()()(()|\n",
        "\n",
        "\n",
        "Please, write a Python program that reads a string of parenthesis and determines if its parenthesis are balanced. \n",
        "A stack is a good data structure to solve this problem because  closing symbols match opening symbols in the reverse order of their appearance. \n",
        "\n",
        "\n",
        "Below, we explain the steps to implement the algorithm. Firstly, you must create an empty stack, which be used to store the opening symbols. Then, you must read the expression from left to right. For each symbol:\n",
        "- If the symbol is an opening symbol, add it on the stack (with push operation).\n",
        "- If the symbol is a closing symbol:\n",
        "    - If the stack is empty, there is no any opening symbol for it, so return false (the expression is not balanced). \n",
        "    - Otherwise, remove the top of the stack (with pop) and continue. \n",
        "        \n",
        "When you have read all characters in the expression, there  are two possibilities:\n",
        "a) The stack is not empty, which means that the expressions contained some opening symbols without their corresponding closing symbols. Therefore, you must return false. \n",
        "b) The stack is empty. You must return true. \n",
        "\n"
      ]
    },
    {
      "cell_type": "markdown",
      "metadata": {
        "id": "ktkBYHzGnXYx"
      },
      "source": [
        ""
      ]
    },
    {
      "cell_type": "code",
      "metadata": {
        "id": "BvLXpSB7oFcL"
      },
      "source": [
        "class Stack:\n",
        "  \"\"\"LIFO Stack implementation using a Python list as storage. \n",
        "  The top of the stack stored at the end of the list.\"\"\"\n",
        "  \n",
        "  def __init__(self):\n",
        "    \"\"\"Create an empty stack\"\"\"\n",
        "    self.items=[]\n",
        "    \n",
        "  def push(self,e):\n",
        "    \"\"\"Add the element e to the top of the stack\"\"\"\n",
        "    self.items.append(e)\n",
        "    \n",
        "  def pop(self):\n",
        "    \"\"\"Remove and return the element from the top of the stack\"\"\"\n",
        "    if self.isEmpty():\n",
        "      print('Error: Stack is empty')\n",
        "      return None\n",
        "    \n",
        "    return self.items.pop() #remove last item from the list\n",
        "  \n",
        "  def top(self):\n",
        "    \"\"\"Return the element from the top of the stack\"\"\"\n",
        "    if self.isEmpty():\n",
        "      print('Error: Stack is empty')\n",
        "      return None\n",
        "    \n",
        "    #returns last element in the list\n",
        "    return self.items[-1] \n",
        "  \n",
        "  \n",
        "  def len(self):\n",
        "    \"\"\"Return the number of elements in the stack\"\"\"\n",
        "    return len(self.items)\n",
        "  \n",
        "  def isEmpty(self):\n",
        "    \"\"\"Return True if the stack is empty\"\"\"\n",
        "    return len(self.items)==0\n",
        "  \n",
        "  def __str__(self):\n",
        "    #print the elements of the list\n",
        "    return str(self.items)\n",
        "  "
      ],
      "execution_count": 2,
      "outputs": []
    },
    {
      "cell_type": "code",
      "metadata": {
        "id": "4Pr__poXoI3_",
        "colab": {
          "base_uri": "https://localhost:8080/"
        },
        "outputId": "0051a95a-878d-439c-d951-8cef3a4020e0"
      },
      "source": [
        "def balanced1(exp):\n",
        "    \"\"\"no use break y un único return\"\"\"\n",
        "    stack = Stack()\n",
        "    result=True\n",
        "    i=0\n",
        "\n",
        "    while result and i<len(exp):\n",
        "        c=exp[i] \n",
        "        if c == \"(\":\n",
        "            stack.push(c)\n",
        "        elif c == \")\":\n",
        "            if not stack.isEmpty():\n",
        "                stack.pop()\n",
        "            else:\n",
        "                result=False\n",
        "        i+=1\n",
        "\n",
        "    \n",
        "    return result and stack.isEmpty()\n",
        "\n",
        "\n",
        "def balanced2(exp):\n",
        "    \"\"\"solo usa un return, pero usa break\"\"\"\n",
        "    stack = Stack()\n",
        "    result=True\n",
        "    for c in exp:\n",
        "        if c == \"(\":\n",
        "            stack.push(c)\n",
        "        elif c == \")\":\n",
        "            if not stack.isEmpty():\n",
        "                stack.pop()\n",
        "            else:\n",
        "                result=False\n",
        "                break\n",
        "    \n",
        "    \n",
        "    return result and stack.isEmpty()\n",
        "\n",
        "\n",
        "def balanced3(exp):\n",
        "    \"\"\"permite varios return\"\"\"\n",
        "    stack = Stack()\n",
        "    for c in exp:\n",
        "        if c == \"(\":\n",
        "            stack.push(c)\n",
        "        elif c == \")\":\n",
        "            if stack.isEmpty():\n",
        "                return False\n",
        "            stack.pop()\n",
        "          \n",
        "    return stack.isEmpty()\n",
        "\n",
        "  \n",
        "  \n",
        "print('((((((())',balanced3('((((((())'))\n",
        "print('(()()()())',balanced3('(()()()())'))\n",
        "print('(((())))',balanced3('(((())))'))\n",
        "print('()))',balanced3('()))'))\n",
        "print('(()()(()',balanced3('(()()(()')      )\n",
        "print('(()((())()))',balanced3('(()((())()))')      )"
      ],
      "execution_count": 4,
      "outputs": [
        {
          "output_type": "stream",
          "text": [
            "((((((()) False\n",
            "(()()()()) True\n",
            "(((()))) True\n",
            "())) False\n",
            "(()()(() False\n",
            "(()((())())) True\n"
          ],
          "name": "stdout"
        }
      ]
    },
    {
      "cell_type": "markdown",
      "metadata": {
        "id": "doUIPZ_QqsFi"
      },
      "source": [
        "The previous function only works for parenthesis. Extend it in order to deal also with:\n",
        "\n",
        "    Brace: ‘{‘ and ‘}\n",
        "    Brackets: ‘[‘ and ‘]’\n",
        "\n"
      ]
    },
    {
      "cell_type": "code",
      "metadata": {
        "id": "o4ZtwihhqvIX",
        "colab": {
          "base_uri": "https://localhost:8080/",
          "height": 104
        },
        "outputId": "8d8e1309-3a3c-4434-a36c-43ff8b965ea8"
      },
      "source": [
        "\n",
        "\n",
        "def balanced_ext(exp):\n",
        "    \"\"\"Checks if the parenthesis in the expression, exp, are balanced\"\"\"\n",
        "    ...\n",
        "    \n",
        "    \n",
        "  \n",
        "print('()(()){([()])}',balanced_ext('()(()){([()])}'))\n",
        "print('((()(()){([()])}))',balanced_ext('((()(()){([()])}))'))\n",
        "print(')(()){([()])}',balanced_ext(')(()){([()])}'))\n",
        "print('(',balanced_ext('('))\n",
        "print('({[]})',balanced_ext('({[]})'))"
      ],
      "execution_count": null,
      "outputs": [
        {
          "output_type": "stream",
          "text": [
            "()(()){([()])} False\n",
            "((()(()){([()])})) False\n",
            ")(()){([()])} False\n",
            "( False\n",
            "({[]}) False\n"
          ],
          "name": "stdout"
        }
      ]
    }
  ]
}