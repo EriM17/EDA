{
  "nbformat": 4,
  "nbformat_minor": 0,
  "metadata": {
    "colab": {
      "name": "Vector.ipynb",
      "provenance": [],
      "collapsed_sections": [],
      "include_colab_link": true
    },
    "kernelspec": {
      "name": "python3",
      "display_name": "Python 3"
    }
  },
  "cells": [
    {
      "cell_type": "markdown",
      "metadata": {
        "id": "view-in-github",
        "colab_type": "text"
      },
      "source": [
        "<a href=\"https://colab.research.google.com/github/isegura/EDA/blob/master/Vector.ipynb\" target=\"_parent\"><img src=\"https://colab.research.google.com/assets/colab-badge.svg\" alt=\"Open In Colab\"/></a>"
      ]
    },
    {
      "cell_type": "markdown",
      "metadata": {
        "id": "gY3thKY-ifr9"
      },
      "source": [
        "# Multidimensional Vector Class\n",
        "\n",
        "Please, implement a class, **Vector**, to represent the coordinates of a vector in a multidimensional space.\n",
        "\n",
        "For example:\n",
        "\n",
        "In a three-dimensional space, we might wish to represent a vector with the following coordinates: 5, −2, 3 . \n",
        "\n",
        "In a five-dimensional space, a possible vector may have the following coordinates: 0,1,-1,3,2.\n",
        "\n",
        "The class must contain the following methods: \n",
        "\n",
        "- $__init__$(self,dim): constructor methods that creates a vector of dimension dim. In this method, all coordinates of the vector are equal to 0.\n",
        "\n",
        "- $__len__$(self)$: returns the dimension of the vector.\n",
        "\n",
        "- $__str__$(self): returns a string that represents the vector. For example, if the coordinates of the vector are: 3,5,0, the method should return the string \"(3,5,0)\".\n",
        "\n",
        "- $__getitem__$(self,i): returns the ith coordinate of the vector. The first coordinate is always represented by the index 0. \n",
        "\n",
        "- $__setitem__$(self,i,newValue): modifies the ith coordinate of the vector to the given newValue.\n",
        "\n",
        "- $__add__$(self,other): returns a new vector, which is the sum of the invoking vector and the  param other. \n",
        "\n",
        "- $__eq__$(self,other): returns True if the invoking vector and the other vector are equal, and false otherwise. \n"
      ]
    },
    {
      "cell_type": "code",
      "metadata": {
        "id": "IFnnb0ocieRJ"
      },
      "source": [
        "class Vector:\n",
        "  \n",
        "  def __init__(self,dim):\n",
        "    \"\"\"Creates a vector of dimension dim. \n",
        "    All its coordinates are 0's\"\"\"\n",
        "    self.items=[0]*dim\n",
        "    \n",
        "    \n",
        "    \n",
        "  def __len__(self):\n",
        "    \"\"\"Returns the dimension of the vector.\"\"\"  \n",
        "    return len(self.items)  \n",
        "  \n",
        "  def __getitem__(self,i):\n",
        "    \"\"\"Returns the ith coordinate of the vector\"\"\"\n",
        "    return self.items[i]\n",
        "    \n",
        "  def __setitem__(self,i,newValue):\n",
        "    \"\"\"Sets the ith coordinate to the given value\"\"\"\n",
        "    if i<0 or i>=len(self):\n",
        "        print('Error: index out of range')\n",
        "    else:\n",
        "        self.items[i]=newValue\n",
        "    \n",
        "    \n",
        "  \n",
        "  def __str__(self):\n",
        "    \"\"\"Returns a string containing the vector\"\"\"\n",
        "    result='('\n",
        "    for i in range(0,len(self)):\n",
        "      result  = result + str(self[i]) + ','\n",
        "    result=result[:-1]\n",
        "    result+=')'\n",
        "    return result\n",
        "  \n",
        "  \n",
        "  \n",
        "  def __add__(self,other):\n",
        "    \"\"\"Returns a new vector, which is the sum of the invoking vector and the param other\"\"\"\n",
        "    \n",
        "    result=None\n",
        "    \n",
        "    if len(self)!=len(other):\n",
        "      print('Error: vectors with different dimensions')\n",
        "\n",
        "    else:\n",
        "        #creates a new vector\n",
        "        result=Vector(len(self))\n",
        "        for i in range(0,len(self)):\n",
        "            result[i]=self[i]+other[i] \n",
        "        \n",
        "    return result\n",
        "    \n",
        "  def __eq__(self,other):\n",
        "    \"\"\"checks if the two vectors have the same coordinates\"\"\"\n",
        "    result=True\n",
        "    if len(self)!=len(other):\n",
        "      result=False\n",
        "    else:\n",
        "        for i in range(0,len(self)):\n",
        "            if self[i] != other[i]:\n",
        "                result=False\n",
        "                break\n",
        "      \n",
        "    return result  \n",
        "    \n",
        "    \n",
        "    "
      ],
      "execution_count": 16,
      "outputs": []
    },
    {
      "cell_type": "markdown",
      "metadata": {
        "id": "a_xZw_0MuBEV"
      },
      "source": [
        "Now, let me create some vectors and try the different methods, which we have already implemented. "
      ]
    },
    {
      "cell_type": "code",
      "metadata": {
        "id": "uPb_xtdSmNN_",
        "colab": {
          "base_uri": "https://localhost:8080/"
        },
        "outputId": "56524814-0ac4-463a-ddbe-e4f2ec75fbee"
      },
      "source": [
        "import random\n",
        "dim=4\n",
        "v1=Vector(dim)\n",
        "v2=Vector(dim)\n",
        "\n",
        "#This loop allows us to initialize the coordinates of the two vectors\n",
        "#in a random way, with values from 0 to 99 \n",
        "for i in range(0,dim):\n",
        "    v1[i]=random.randint(0,100)\n",
        "    v2[i]=random.randint(0,100)\n",
        "  \n",
        "#we show both vectors  \n",
        "print(v1)  \n",
        "print(v2)  \n",
        "\n",
        "#we sum the two vectors\n",
        "vsum=v1+v2\n",
        "#we show the result vector\n",
        "print(vsum)  \n",
        "#we check if the two vectors are equal\n",
        "print(v1==v2)"
      ],
      "execution_count": 17,
      "outputs": [
        {
          "output_type": "stream",
          "text": [
            "(77,53,93,94)\n",
            "(2,63,31,70)\n",
            "(79,116,124,164)\n",
            "False\n"
          ],
          "name": "stdout"
        }
      ]
    }
  ]
}