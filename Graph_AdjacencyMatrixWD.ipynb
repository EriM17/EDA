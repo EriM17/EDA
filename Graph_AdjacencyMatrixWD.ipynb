{
  "nbformat": 4,
  "nbformat_minor": 0,
  "metadata": {
    "colab": {
      "name": "Graph-AdjacencyMatrixWD.ipynb",
      "provenance": [],
      "collapsed_sections": [],
      "authorship_tag": "ABX9TyOJW74N6X/sUAWDspAeBbNX",
      "include_colab_link": true
    },
    "kernelspec": {
      "name": "python3",
      "display_name": "Python 3"
    }
  },
  "cells": [
    {
      "cell_type": "markdown",
      "metadata": {
        "id": "view-in-github",
        "colab_type": "text"
      },
      "source": [
        "<a href=\"https://colab.research.google.com/github/isegura/EDA/blob/master/Graph_AdjacencyMatrixWD.ipynb\" target=\"_parent\"><img src=\"https://colab.research.google.com/assets/colab-badge.svg\" alt=\"Open In Colab\"/></a>"
      ]
    },
    {
      "cell_type": "markdown",
      "metadata": {
        "id": "WByQ9yUB9TD0",
        "colab_type": "text"
      },
      "source": [
        "# Adjacency Matrix for any kind of graph \n",
        "\n",
        "This implementation allows us to represent any kind of graph: weighted, unweighted, directed or undirected. "
      ]
    },
    {
      "cell_type": "code",
      "metadata": {
        "id": "04E-EuC89Rsj",
        "colab_type": "code",
        "colab": {}
      },
      "source": [
        "class Graph(object):\n",
        "\tdef __init__(self,numNodes,directed=True):\n",
        "\t\tself.adjacencyMatrix = [] # 2D list\n",
        "    \n",
        "\t\tfor i in range(numNodes): \n",
        "\t\t\tself.adjacencyMatrix.append([0 for i in range(numNodes)])\n",
        "\t\tself.numNodes = numNodes\n",
        "\t\tself.directed=directed\n",
        "\n",
        "\tdef checkVertex(self,v):\n",
        "\t\treturn v>=0 and v<self.numNodes\n",
        "\n",
        "\tdef addEdge(self, start, end, weigth=1):\n",
        "\t\tif self.checkVertex(start)==False or self.checkVertex(end)==False:\n",
        "\t\t\tprint('wrong vertices')\n",
        "\t\telse:\n",
        "\t\t\tself.adjacencyMatrix[start][end] = weigth\n",
        "\t\t\tif self.directed==False:\n",
        "\t\t\t\tself.adjacencyMatrix[end][start] = weigth\n",
        "\n",
        "\tdef containsEdge(self, start, end):\n",
        "\t\tif self.checkVertex(start)==False or self.checkVertex(end)==False:\n",
        "\t\t\tprint('wrong indexes')\n",
        "\t\t\treturn 0\n",
        "\t\t\n",
        "\t\treturn self.adjacencyMatrix[start][end] \n",
        "\n",
        "\tdef removeEdge(self,start,end):\n",
        "\t\tif self.checkVertex(start)==False or self.checkVertex(end)==False:\n",
        "\t\t\tprint('wrong vertices')\n",
        "\t\telse:\n",
        "\t\t\tself.adjacencyMatrix[start][end] = 0\n",
        "\t\t\tif self.directed==False:\n",
        "\t\t\t\tself.adjacencyMatrix[end][start] = 0\n",
        "\n",
        "\tdef __str__(self):\n",
        "\t\tresult=''\n",
        "\t\tfor row in self.adjacencyMatrix:\n",
        "\t\t\tresult+=str(row)+'\\n'\n",
        "\t\t\n",
        "\t\treturn result"
      ],
      "execution_count": 0,
      "outputs": []
    },
    {
      "cell_type": "code",
      "metadata": {
        "id": "xoqwNGnv9y9x",
        "colab_type": "code",
        "outputId": "5d3cf9e5-15d1-4043-c643-830bffbda42f",
        "colab": {
          "base_uri": "https://localhost:8080/",
          "height": 218
        }
      },
      "source": [
        "g=Graph(5)\n",
        "print(g)\n",
        "g.addEdge(0,1,5); # The 0th element is A. The 1st element is B\n",
        "print(g)"
      ],
      "execution_count": 9,
      "outputs": [
        {
          "output_type": "stream",
          "text": [
            "[0, 0, 0, 0, 0]\n",
            "[0, 0, 0, 0, 0]\n",
            "[0, 0, 0, 0, 0]\n",
            "[0, 0, 0, 0, 0]\n",
            "[0, 0, 0, 0, 0]\n",
            "\n",
            "[0, 5, 0, 0, 0]\n",
            "[0, 0, 0, 0, 0]\n",
            "[0, 0, 0, 0, 0]\n",
            "[0, 0, 0, 0, 0]\n",
            "[0, 0, 0, 0, 0]\n",
            "\n"
          ],
          "name": "stdout"
        }
      ]
    },
    {
      "cell_type": "markdown",
      "metadata": {
        "id": "DjHmAOAU_zQ8",
        "colab_type": "text"
      },
      "source": [
        "Now, we use the implementation to represent this graph: \n",
        "\n",
        "<img src='https://upload.wikimedia.org/wikipedia/commons/thumb/b/bc/CPT-Graphs-directed-weighted-ex1.svg/722px-CPT-Graphs-directed-weighted-ex1.svg.png' width='25%'/>"
      ]
    },
    {
      "cell_type": "code",
      "metadata": {
        "id": "4zA4vgkaAyUi",
        "colab_type": "code",
        "outputId": "93555f9d-89f1-4647-a231-641506fd2b3d",
        "colab": {
          "base_uri": "https://localhost:8080/",
          "height": 118
        }
      },
      "source": [
        "#we use this dictionary to represent the vertices with numbers:\n",
        "v={'A':0,'B':1,'C':2,'D':3,'E':4}\n",
        "\n",
        "g=Graph(5,False)\n",
        "\n",
        "#Now, we add the edges\n",
        "g.addEdge(v['A'],v['C'],12) #A->(12)C\n",
        "g.addEdge(v['A'],v['D'],60) #A->(60)D\n",
        "g.addEdge(v['B'],v['A'],10) #B->(10)A\n",
        "g.addEdge(v['C'],v['B'],20) #C->(20)B\n",
        "g.addEdge(v['C'],v['D'],32) #C->(32)D\n",
        "g.addEdge(v['E'],v['A'],7)  #E->(7)A\n",
        "\n",
        "print(g)\n",
        "\n"
      ],
      "execution_count": 10,
      "outputs": [
        {
          "output_type": "stream",
          "text": [
            "[0, 10, 12, 60, 7]\n",
            "[10, 0, 20, 0, 0]\n",
            "[12, 20, 0, 32, 0]\n",
            "[60, 0, 32, 0, 0]\n",
            "[7, 0, 0, 0, 0]\n",
            "\n"
          ],
          "name": "stdout"
        }
      ]
    }
  ]
}