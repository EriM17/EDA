{
  "nbformat": 4,
  "nbformat_minor": 0,
  "metadata": {
    "colab": {
      "name": "Graph-AdjacencyMatrixWD.ipynb",
      "provenance": [],
      "collapsed_sections": [],
      "authorship_tag": "ABX9TyNGGEqWmOzWUG8MfUhaRBD8",
      "include_colab_link": true
    },
    "kernelspec": {
      "name": "python3",
      "display_name": "Python 3"
    }
  },
  "cells": [
    {
      "cell_type": "markdown",
      "metadata": {
        "id": "view-in-github",
        "colab_type": "text"
      },
      "source": [
        "<a href=\"https://colab.research.google.com/github/isegura/EDA/blob/master/Graph_AdjacencyMatrixWD.ipynb\" target=\"_parent\"><img src=\"https://colab.research.google.com/assets/colab-badge.svg\" alt=\"Open In Colab\"/></a>"
      ]
    },
    {
      "cell_type": "markdown",
      "metadata": {
        "id": "WByQ9yUB9TD0",
        "colab_type": "text"
      },
      "source": [
        "# Adjacency Matrix for any kind of graph \n",
        "\n",
        "This implementation allows us to represent any kind of graph: weighted, unweighted, directed or undirected. "
      ]
    },
    {
      "cell_type": "code",
      "metadata": {
        "id": "04E-EuC89Rsj",
        "colab_type": "code",
        "colab": {}
      },
      "source": [
        "class Graph(object):\n",
        "\tdef __init__(self,labels,directed=True):\n",
        "\t\tself.adjacencyMatrix = [] # 2D list\n",
        "    \n",
        "\t\tself.labels=labels\n",
        "\t\tself.numNodes = len(labels)\n",
        "\t\tself.directed=directed\n",
        "\n",
        "\t\tfor i in range(self.numNodes): \n",
        "\t\t\tself.adjacencyMatrix.append([0 for i in range(self.numNodes)])\n",
        "\n",
        "\t\n",
        "\tdef _getIndex(self,v):\n",
        "\t\tindex=-1\n",
        "\t\ttry:\n",
        "\t\t\tindex=self.labels.index(v)\n",
        "\t\texcept:\n",
        "\t\t\tprint(v,' is not a vertex!!!')\n",
        "\t\t\tpass\n",
        "\t\treturn index\n",
        "\n",
        "\tdef addEdge(self, start, end, weight=1):\n",
        "\t\tindex_start=self._getIndex(start)\n",
        "\t\tif index_start==-1:\n",
        "\t\t\treturn\n",
        "\t\tindex_end=self._getIndex(end)\n",
        "\t\tif index_end==-1:\n",
        "\t\t\treturn\n",
        "\t\t\n",
        "\t\tself.adjacencyMatrix[index_start][index_end] = weight\n",
        "\t\tif self.directed==False:\n",
        "\t\t\tself.adjacencyMatrix[index_end][index_start] = weight\n",
        "\n",
        "\n",
        "\n",
        "\tdef containsEdge(self, start, end):\n",
        "\t\tindex_start=self._getIndex(start)\n",
        "\t\tif index_start==-1:\n",
        "\t\t\treturn 0\n",
        "\t\tindex_end=self._getIndex(end)\n",
        "\t\tif index_end==-1:\n",
        "\t\t\treturn 0\n",
        "\t\t\n",
        "\t\treturn self.adjacencyMatrix[index_start][index_end] \n",
        "\n",
        "\tdef removeEdge(self,start,end):\n",
        "\t\tindex_start=self._getIndex(start)\n",
        "\t\tif index_start==-1:\n",
        "\t\t\treturn \n",
        "\t\tindex_end=self._getIndex(end)\n",
        "\t\tif index_end==-1:\n",
        "\t\t\treturn \n",
        "\n",
        "\t\tself.adjacencyMatrix[index_start][index_end] = 0\n",
        "\t\tif self.directed==False:\n",
        "\t\t\tself.adjacencyMatrix[index_end][index_start] = 0\n",
        "\n",
        "\n",
        "\tdef __str__(self):\n",
        "\t\tresult=''\n",
        "\t\tfor row in self.adjacencyMatrix:\n",
        "\t\t\tresult+=str(row)+'\\n'\n",
        "\t\t\n",
        "\t\treturn result\n",
        "\n",
        "\n"
      ],
      "execution_count": 0,
      "outputs": []
    },
    {
      "cell_type": "markdown",
      "metadata": {
        "id": "kA84VmhQz8E0",
        "colab_type": "text"
      },
      "source": [
        "Now, we use the implementation to represent this directed and unweighted graph:\n",
        "\n",
        "\n",
        "<img src='https://upload.wikimedia.org/wikipedia/commons/thumb/1/1c/Directed_graph%2C_cyclic.svg/900px-Directed_graph%2C_cyclic.svg.png' width='35%'/>"
      ]
    },
    {
      "cell_type": "code",
      "metadata": {
        "id": "40K9tneuz8yu",
        "colab_type": "code",
        "colab": {
          "base_uri": "https://localhost:8080/",
          "height": 139
        },
        "outputId": "0ced6e85-1753-4e5d-d768-ceb62365801e"
      },
      "source": [
        "labels=['A','B','C','D','E','F']\n",
        "\n",
        "g=Graph(labels)\n",
        "\n",
        "#Now, we add the edges\n",
        "g.addEdge('A','B') #A->B\n",
        "g.addEdge('B','C') #B->C\n",
        "g.addEdge('C','E') #C->E\n",
        "g.addEdge('D','B') #D->B\n",
        "g.addEdge('E','D') #E->D\n",
        "g.addEdge('E','F') #E->D\n",
        "\n",
        "print(g)"
      ],
      "execution_count": 17,
      "outputs": [
        {
          "output_type": "stream",
          "text": [
            "[0, 1, 0, 0, 0, 0]\n",
            "[0, 0, 1, 0, 0, 0]\n",
            "[0, 0, 0, 0, 1, 0]\n",
            "[0, 1, 0, 0, 0, 0]\n",
            "[0, 0, 0, 1, 0, 1]\n",
            "[0, 0, 0, 0, 0, 0]\n",
            "\n"
          ],
          "name": "stdout"
        }
      ]
    },
    {
      "cell_type": "markdown",
      "metadata": {
        "id": "aBkXIf4uo8MY",
        "colab_type": "text"
      },
      "source": [
        "We use the implementation to represent an undirected graph without weights :\n",
        "\n",
        "\n",
        "<img src='https://computersciencesource.files.wordpress.com/2010/05/dfs_1.png' width='35%'/>"
      ]
    },
    {
      "cell_type": "code",
      "metadata": {
        "id": "xoqwNGnv9y9x",
        "colab_type": "code",
        "outputId": "1196c5cd-766c-4191-f5de-3f37b1b95e62",
        "colab": {
          "base_uri": "https://localhost:8080/",
          "height": 121
        }
      },
      "source": [
        "labels=['A','B','C','D','E']\n",
        "g=Graph(labels,False)\n",
        "g.addEdge('A','B') # A:0, B:1\n",
        "g.addEdge('A','C') # A:0, C:2\n",
        "g.addEdge('A','E') # A:0, E:5\n",
        "g.addEdge('B','D') # B:1, D:4\n",
        "g.addEdge('B','E') # C:2, B:1\n",
        "#g.addEdge('A','H',8)\n",
        "\n",
        "print(g)"
      ],
      "execution_count": 20,
      "outputs": [
        {
          "output_type": "stream",
          "text": [
            "[0, 1, 1, 0, 1]\n",
            "[1, 0, 0, 1, 1]\n",
            "[1, 0, 0, 0, 0]\n",
            "[0, 1, 0, 0, 0]\n",
            "[1, 1, 0, 0, 0]\n",
            "\n"
          ],
          "name": "stdout"
        }
      ]
    },
    {
      "cell_type": "markdown",
      "metadata": {
        "id": "DjHmAOAU_zQ8",
        "colab_type": "text"
      },
      "source": [
        "Now, we use the implementation to represent a directed and weighted graph: \n",
        "\n",
        "<img src='https://upload.wikimedia.org/wikipedia/commons/thumb/b/bc/CPT-Graphs-directed-weighted-ex1.svg/722px-CPT-Graphs-directed-weighted-ex1.svg.png' width='25%'/>"
      ]
    },
    {
      "cell_type": "code",
      "metadata": {
        "id": "4zA4vgkaAyUi",
        "colab_type": "code",
        "outputId": "9101d5c7-ba09-4828-b581-dcf64a18941a",
        "colab": {
          "base_uri": "https://localhost:8080/",
          "height": 225
        }
      },
      "source": [
        "labels=['A','B','C','D','E']\n",
        "\n",
        "g=Graph(labels)\n",
        "\n",
        "#Now, we add the edges\n",
        "g.addEdge('A','C',12) #A->(12)C\n",
        "g.addEdge('A','D',60) #A->(60)D\n",
        "g.addEdge('B','A',10) #B->(10)A\n",
        "g.addEdge('C','B',20) #C->(20)B\n",
        "g.addEdge('C','D',32) #C->(32)D\n",
        "g.addEdge('E','A',7)  #E->(7)A\n",
        "\n",
        "print(g)\n",
        "\n",
        "g.removeEdge('C','B')\n",
        "\n",
        "print(g)\n"
      ],
      "execution_count": 21,
      "outputs": [
        {
          "output_type": "stream",
          "text": [
            "[0, 0, 12, 60, 0]\n",
            "[10, 0, 0, 0, 0]\n",
            "[0, 20, 0, 32, 0]\n",
            "[0, 0, 0, 0, 0]\n",
            "[7, 0, 0, 0, 0]\n",
            "\n",
            "[0, 0, 12, 60, 0]\n",
            "[10, 0, 0, 0, 0]\n",
            "[0, 0, 0, 32, 0]\n",
            "[0, 0, 0, 0, 0]\n",
            "[7, 0, 0, 0, 0]\n",
            "\n"
          ],
          "name": "stdout"
        }
      ]
    }
  ]
}