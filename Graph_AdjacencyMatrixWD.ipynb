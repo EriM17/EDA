{
  "nbformat": 4,
  "nbformat_minor": 0,
  "metadata": {
    "colab": {
      "name": "Graph-AdjacencyMatrixWD.ipynb",
      "provenance": [],
      "collapsed_sections": [],
      "authorship_tag": "ABX9TyO1sO4cOSfUs+jSn7wO78at",
      "include_colab_link": true
    },
    "kernelspec": {
      "name": "python3",
      "display_name": "Python 3"
    }
  },
  "cells": [
    {
      "cell_type": "markdown",
      "metadata": {
        "id": "view-in-github",
        "colab_type": "text"
      },
      "source": [
        "<a href=\"https://colab.research.google.com/github/isegura/EDA/blob/master/Graph_AdjacencyMatrixWD.ipynb\" target=\"_parent\"><img src=\"https://colab.research.google.com/assets/colab-badge.svg\" alt=\"Open In Colab\"/></a>"
      ]
    },
    {
      "cell_type": "markdown",
      "metadata": {
        "id": "WByQ9yUB9TD0",
        "colab_type": "text"
      },
      "source": [
        "# Adjacency Matrix for any kind of graph \n",
        "\n",
        "This implementation allows us to represent any kind of graph: weighted, unweighted, directed or undirected. "
      ]
    },
    {
      "cell_type": "code",
      "metadata": {
        "id": "04E-EuC89Rsj",
        "colab_type": "code",
        "colab": {}
      },
      "source": [
        "class Graph(object):\n",
        "\tdef __init__(self,labels,directed=True):\n",
        "\t\tself.adjacencyMatrix = [] # 2D list\n",
        "    \n",
        "\t\tself.labels=labels\n",
        "\t\tself.numNodes = len(labels)\n",
        "\t\tself.directed=directed\n",
        "\n",
        "\t\tfor i in range(self.numNodes): \n",
        "\t\t\tself.adjacencyMatrix.append([0 for i in range(self.numNodes)])\n",
        "\n",
        "\t\n",
        "\tdef _getIndex(self,v):\n",
        "\t\tindex=-1\n",
        "\t\ttry:\n",
        "\t\t\tindex=self.labels.index(v)\n",
        "\t\texcept:\n",
        "\t\t\tprint(v,' is not a vertex!!!')\n",
        "\t\t\tpass\n",
        "\t\treturn index\n",
        "\n",
        "\tdef addEdge(self, start, end, weight=0):\n",
        "\t\tindex_start=self._getIndex(start)\n",
        "\t\tif index_start==-1:\n",
        "\t\t\treturn\n",
        "\t\tindex_end=self._getIndex(end)\n",
        "\t\tif index_end==-1:\n",
        "\t\t\treturn\n",
        "\t\t\n",
        "\t\tself.adjacencyMatrix[index_start][index_end] = weight\n",
        "\t\tif self.directed==False:\n",
        "\t\t\tself.adjacencyMatrix[index_end][index_start] = weight\n",
        "\n",
        "\n",
        "\n",
        "\tdef containsEdge(self, start, end):\n",
        "\t\tindex_start=self._getIndex(start)\n",
        "\t\tif index_start==-1:\n",
        "\t\t\treturn 0\n",
        "\t\tindex_end=self._getIndex(end)\n",
        "\t\tif index_end==-1:\n",
        "\t\t\treturn 0\n",
        "\t\t\n",
        "\t\treturn self.adjacencyMatrix[index_start][index_end] \n",
        "\n",
        "\tdef removeEdge(self,start,end):\n",
        "\t\tindex_start=self._getIndex(start)\n",
        "\t\tif index_start==-1:\n",
        "\t\t\treturn \n",
        "\t\tindex_end=self._getIndex(end)\n",
        "\t\tif index_end==-1:\n",
        "\t\t\treturn \n",
        "\n",
        "\t\tself.adjacencyMatrix[index_start][index_end] = 0\n",
        "\t\tif self.directed==False:\n",
        "\t\t\tself.adjacencyMatrix[index_end][index_start] = 0\n",
        "\n",
        "\n",
        "\tdef __str__(self):\n",
        "\t\tresult=''\n",
        "\t\tfor row in self.adjacencyMatrix:\n",
        "\t\t\tresult+=str(row)+'\\n'\n",
        "\t\t\n",
        "\t\treturn result\n",
        "\n",
        "\n"
      ],
      "execution_count": 0,
      "outputs": []
    },
    {
      "cell_type": "markdown",
      "metadata": {
        "id": "aBkXIf4uo8MY",
        "colab_type": "text"
      },
      "source": [
        "We use the implementation to represent an undirected graph without weights :\n",
        "\n",
        "\n",
        "<img src='https://computersciencesource.files.wordpress.com/2010/05/dfs_1.png' width='35%'/>"
      ]
    },
    {
      "cell_type": "code",
      "metadata": {
        "id": "xoqwNGnv9y9x",
        "colab_type": "code",
        "outputId": "0df89edb-c614-4146-d8f0-7bba5193c5ac",
        "colab": {
          "base_uri": "https://localhost:8080/",
          "height": 225
        }
      },
      "source": [
        "labels=['A','B','C','D','E']\n",
        "g=Graph(labels,False)\n",
        "print(g)\n",
        "g.addEdge('A','B',5) # A:0, B:1\n",
        "g.addEdge('A','C',7) # A:0, C:2\n",
        "g.addEdge('A','E',4) # A:0, E:5\n",
        "g.addEdge('B','D',9) # B:1, D:4\n",
        "g.addEdge('C','B',2) # C:2, B:1\n",
        "g.addEdge('D','E',3) # D:4, E:5\n",
        "#g.addEdge('A','H',8)\n",
        "\n",
        "print(g)"
      ],
      "execution_count": 0,
      "outputs": [
        {
          "output_type": "stream",
          "text": [
            "[0, 0, 0, 0, 0]\n",
            "[0, 0, 0, 0, 0]\n",
            "[0, 0, 0, 0, 0]\n",
            "[0, 0, 0, 0, 0]\n",
            "[0, 0, 0, 0, 0]\n",
            "\n",
            "[0, 5, 7, 0, 4]\n",
            "[5, 0, 2, 9, 0]\n",
            "[7, 2, 0, 0, 0]\n",
            "[0, 9, 0, 0, 3]\n",
            "[4, 0, 0, 3, 0]\n",
            "\n"
          ],
          "name": "stdout"
        }
      ]
    },
    {
      "cell_type": "markdown",
      "metadata": {
        "id": "DjHmAOAU_zQ8",
        "colab_type": "text"
      },
      "source": [
        "Now, we use the implementation to represent a directed and weighted graph: \n",
        "\n",
        "<img src='https://upload.wikimedia.org/wikipedia/commons/thumb/b/bc/CPT-Graphs-directed-weighted-ex1.svg/722px-CPT-Graphs-directed-weighted-ex1.svg.png' width='25%'/>"
      ]
    },
    {
      "cell_type": "code",
      "metadata": {
        "id": "4zA4vgkaAyUi",
        "colab_type": "code",
        "outputId": "48f21f1b-d916-4620-8b29-a9a132bc2e56",
        "colab": {
          "base_uri": "https://localhost:8080/",
          "height": 225
        }
      },
      "source": [
        "labels=['A','B','C','D','E']\n",
        "\n",
        "g=Graph(labels)\n",
        "\n",
        "#Now, we add the edges\n",
        "g.addEdge('A','C',12) #A->(12)C\n",
        "g.addEdge('A','D',60) #A->(60)D\n",
        "g.addEdge('B','A',10) #B->(10)A\n",
        "g.addEdge('C','B',20) #C->(20)B\n",
        "g.addEdge('C','D',32) #C->(32)D\n",
        "g.addEdge('E','A',7)  #E->(7)A\n",
        "\n",
        "print(g)\n",
        "\n",
        "g.removeEdge('C','B')\n",
        "\n",
        "print(g)\n"
      ],
      "execution_count": 0,
      "outputs": [
        {
          "output_type": "stream",
          "text": [
            "[0, 0, 12, 60, 0]\n",
            "[10, 0, 0, 0, 0]\n",
            "[0, 20, 0, 32, 0]\n",
            "[0, 0, 0, 0, 0]\n",
            "[7, 0, 0, 0, 0]\n",
            "\n",
            "[0, 0, 12, 60, 0]\n",
            "[10, 0, 0, 0, 0]\n",
            "[0, 0, 0, 32, 0]\n",
            "[0, 0, 0, 0, 0]\n",
            "[7, 0, 0, 0, 0]\n",
            "\n"
          ],
          "name": "stdout"
        }
      ]
    }
  ]
}