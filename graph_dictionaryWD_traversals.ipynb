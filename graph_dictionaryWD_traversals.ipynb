{
  "nbformat": 4,
  "nbformat_minor": 0,
  "metadata": {
    "colab": {
      "name": "graph-dictionaryWD-traversals.ipynb",
      "provenance": [],
      "collapsed_sections": [],
      "authorship_tag": "ABX9TyNx910CyWPONBm5uEst3O0k",
      "include_colab_link": true
    },
    "kernelspec": {
      "name": "python3",
      "display_name": "Python 3"
    }
  },
  "cells": [
    {
      "cell_type": "markdown",
      "metadata": {
        "id": "view-in-github",
        "colab_type": "text"
      },
      "source": [
        "<a href=\"https://colab.research.google.com/github/isegura/EDA/blob/master/graph_dictionaryWD_traversals.ipynb\" target=\"_parent\"><img src=\"https://colab.research.google.com/assets/colab-badge.svg\" alt=\"Open In Colab\"/></a>"
      ]
    },
    {
      "cell_type": "markdown",
      "metadata": {
        "id": "uQxlfbU9HpDd",
        "colab_type": "text"
      },
      "source": [
        "# Graph traversals\n"
      ]
    },
    {
      "cell_type": "code",
      "metadata": {
        "id": "vZEDjAUpHoda",
        "colab_type": "code",
        "colab": {}
      },
      "source": [
        "class AdjacentVertex:\n",
        "  def __init__(self,vertex,weight):\n",
        "    self.vertex=vertex\n",
        "    self.weight=weight\n",
        "  \n",
        "  def __str__(self):\n",
        "    return '('+str(self.vertex)+','+str(self.weight)+')'\n",
        "\n",
        "class Graph():\n",
        "  def __init__(self,numNodes,directed=True):\n",
        "    self.vertices={}\n",
        "    for i in range(numNodes):\n",
        "      self.vertices[i]=[]\n",
        "    self.numNodes=numNodes\n",
        "    self.directed=directed\n",
        "  \n",
        "    \n",
        "  def checkVertex(self,v):\n",
        "    return v>=0 and v<self.numNodes\n",
        "  \n",
        "  def addEdge(self, start, end, weight=0):\n",
        "    if self.checkVertex(start)==False or self.checkVertex(end)==False:\n",
        "      print('wrong vertices')\n",
        "    else:\n",
        "      if end not in self.vertices[start]:\n",
        "        self.vertices[start].append(AdjacentVertex(end,weight))\n",
        "        if self.directed==False:\n",
        "          self.vertices[end].append(AdjacentVertex(start,weight))\n",
        "\n",
        "        \n",
        "  def containsEdge(self, start, end):\n",
        "    if self.checkVertex(start)==False or self.checkVertex(end)==False:\n",
        "      print('wrong vertices')\n",
        "    else:\n",
        "      return end in self.vertices[start]\n",
        "  \n",
        "  def removeEdge(self,start,end):\n",
        "    if self.checkVertex(start)==False or self.checkVertex(end)==False:\n",
        "      print('wrong vertices')\n",
        "    else:\n",
        "      if end in self.vertices[start]:\n",
        "        self.vertices[start].remove(end)\n",
        "      if self.directed==False:\n",
        "          self.vertices[start].append(end)\n",
        "  \n",
        "  def __str__(self):\n",
        "    result=''\n",
        "    for vertex in self.vertices.keys():\n",
        "      result+=str(vertex)+':'\n",
        "      for adj in self.vertices[vertex]:\n",
        "        result+=str(adj)+','\n",
        "      if result[-1]==',':\n",
        "        result=result[:-1]\n",
        "      result+='\\n'\n",
        "    return result\n",
        "\n",
        "\n"
      ],
      "execution_count": 0,
      "outputs": []
    },
    {
      "cell_type": "markdown",
      "metadata": {
        "id": "GFuYV18sUQ5Z",
        "colab_type": "text"
      },
      "source": [
        "## Breadth First Search"
      ]
    },
    {
      "cell_type": "code",
      "metadata": {
        "id": "sFOSe6hvKRkS",
        "colab_type": "code",
        "colab": {}
      },
      "source": [
        "class Graph2(Graph):\n",
        "\n",
        "\n",
        "  def bfs(self):\n",
        "    print('bfs traversal:')\n",
        "    # Mark all the vertices as not visited \n",
        "    visited = [False] * (self.numNodes) \n",
        "    for v in self.vertices:\n",
        "      if visited[v]==False:\n",
        "        self._bfs(v,visited)\n",
        "\n",
        "  # Function to print a BFS of graph \n",
        "  def _bfs(self, v,visited): \n",
        "    # Create a queue for BFS \n",
        "    queue = [] \n",
        "  \n",
        "    # Mark the source node as  \n",
        "    # visited and enqueue it \n",
        "    queue.append(v) \n",
        "    visited[v] = True\n",
        "  \n",
        "    while queue: \n",
        "      # Dequeue a vertex from  queue and print it \n",
        "      s = queue.pop(0) \n",
        "      print (s, end = \" \") \n",
        "  \n",
        "      # Get all adjacent vertices of the \n",
        "      # dequeued vertex s. If a adjacent \n",
        "      # has not been visited, then mark it \n",
        "      # visited and enqueue it \n",
        "      for adj in self.vertices[s]: \n",
        "        i=adj.vertex\n",
        "        if visited[i] == False: \n",
        "          queue.append(i) \n",
        "          visited[i] = True\n"
      ],
      "execution_count": 0,
      "outputs": []
    },
    {
      "cell_type": "markdown",
      "metadata": {
        "id": "Erk_WZezKbxt",
        "colab_type": "text"
      },
      "source": [
        "Now, we use the implementation to represent and trasverse this graph: \n",
        "\n",
        "<img src='https://upload.wikimedia.org/wikipedia/commons/thumb/b/bc/CPT-Graphs-directed-weighted-ex1.svg/722px-CPT-Graphs-directed-weighted-ex1.svg.png' width='25%'/>"
      ]
    },
    {
      "cell_type": "code",
      "metadata": {
        "id": "cupiQMfoZMNS",
        "colab_type": "code",
        "colab": {
          "base_uri": "https://localhost:8080/",
          "height": 168
        },
        "outputId": "08ea3e09-645f-4b3f-e55c-9551ce0e6f38"
      },
      "source": [
        "#we use this dictionary to represent the vertices with numbers:\n",
        "#v={'A':0,'B':1,'C':2,'D':3,'E':4}\n",
        "v={'A':0,'B':1,'C':2,'D':3,'E':4,'F':5,'G':6}\n",
        "g=Graph2(len(v),False)\n",
        "\n",
        "#Now, we add the edges\n",
        "g.addEdge(v['A'],v['C'],12) #A->(12)C\n",
        "g.addEdge(v['A'],v['D'],60) #A->(60)D\n",
        "g.addEdge(v['B'],v['A'],10) #B->(10)A\n",
        "g.addEdge(v['C'],v['B'],20) #C->(20)B\n",
        "g.addEdge(v['C'],v['D'],32) #C->(32)D\n",
        "g.addEdge(v['E'],v['A'],7)  #E->(7)A\n",
        "g.addEdge(v['F'],v['G'],1)  #F->(1)G\n",
        "\n",
        "\n",
        "print(g)\n",
        "\n",
        "\n",
        "g.bfs()\n",
        "print()\n",
        "\n",
        "#visited = [False] * (len(v)) \n",
        "#g._bfs(v['C'],visited)\n",
        "#print()\n",
        "#visited = [False] * (len(v)) \n",
        "#g._bfs(v['F'],visited)"
      ],
      "execution_count": 41,
      "outputs": [
        {
          "output_type": "stream",
          "text": [
            "0:(2,12),(3,60),(1,10),(4,7)\n",
            "1:(0,10),(2,20)\n",
            "2:(0,12),(1,20),(3,32)\n",
            "3:(0,60),(2,32)\n",
            "4:(0,7)\n",
            "5:(6,1)\n",
            "6:(5,1)\n",
            "\n",
            "0 2 3 1 4 5 6 \n"
          ],
          "name": "stdout"
        }
      ]
    },
    {
      "cell_type": "markdown",
      "metadata": {
        "id": "6MuXeDi1bJyb",
        "colab_type": "text"
      },
      "source": [
        "We see another example:"
      ]
    },
    {
      "cell_type": "code",
      "metadata": {
        "id": "gDi7VTzvbNID",
        "colab_type": "code",
        "colab": {
          "base_uri": "https://localhost:8080/",
          "height": 185
        },
        "outputId": "b62785fc-0926-41df-d1c0-df479602ae45"
      },
      "source": [
        "g = Graph2(4, False) \n",
        "g.addEdge(0, 1) \n",
        "g.addEdge(0, 2) \n",
        "g.addEdge(1, 2) \n",
        "g.addEdge(2, 0) \n",
        "g.addEdge(2, 3) \n",
        "g.addEdge(3, 3) \n",
        "print(g)\n",
        "\n",
        "print('bfs traversal from 0:')\n",
        "g.bfs()\n",
        "print()\n",
        "\n",
        "print('bfs traversal from 2:')\n",
        "visited = [False] * (g.numNodes) \n",
        "g._bfs(2,visited)"
      ],
      "execution_count": 43,
      "outputs": [
        {
          "output_type": "stream",
          "text": [
            "0:(1,0),(2,0),(2,0)\n",
            "1:(0,0),(2,0)\n",
            "2:(0,0),(1,0),(0,0),(3,0)\n",
            "3:(2,0),(3,0),(3,0)\n",
            "\n",
            "bfs traversal from 0:\n",
            "bfs traversal:\n",
            "0 1 2 3 \n",
            "bfs traversal from 2:\n",
            "2 0 1 3 "
          ],
          "name": "stdout"
        }
      ]
    },
    {
      "cell_type": "markdown",
      "metadata": {
        "id": "eHSCosh_cksH",
        "colab_type": "text"
      },
      "source": [
        "## Depth First Search\n",
        "\n"
      ]
    },
    {
      "cell_type": "code",
      "metadata": {
        "id": "DrNVVWngdlqv",
        "colab_type": "code",
        "colab": {}
      },
      "source": [
        "class Graph3(Graph):\n",
        "\n",
        "  # The function to do DFS traversal. It uses \n",
        "  # recursive _dfs() \n",
        "  def dfs(self,v=0): \n",
        "    \"\"\"This function prints the vertices by dfs algorithm\"\"\"\n",
        "    print('dfs traversal:')\n",
        "    # Mark all the vertices as not visited \n",
        "    visited = [False] * (self.numNodes) \n",
        "    for v in  self.vertices:\n",
        "        if visited[v]==False:\n",
        "          self._dfs(v, visited)\n",
        "    print() \n",
        "\n",
        "  def _dfs(self, v, visited): \n",
        "    # Mark the current node as visited and print it \n",
        "    visited[v] = True\n",
        "    print(v, end = ' ') \n",
        "  \n",
        "    # Recur for all the vertices  adjacent to this vertex \n",
        "    for adj in self.vertices[v]: \n",
        "      i=adj.vertex\n",
        "      if visited[i] == False: \n",
        "        self._dfs(i, visited) \n",
        "  \n"
      ],
      "execution_count": 0,
      "outputs": []
    },
    {
      "cell_type": "code",
      "metadata": {
        "id": "ngdj5_dhj2_f",
        "colab_type": "code",
        "colab": {
          "base_uri": "https://localhost:8080/",
          "height": 67
        },
        "outputId": "76779ac8-eb62-43aa-bfd7-98f086e714b0"
      },
      "source": [
        "# Create a graph given  \n",
        "# in the above diagram \n",
        "g = Graph3(4) \n",
        "g.addEdge(0, 1) \n",
        "g.addEdge(0, 2) \n",
        "g.addEdge(1, 2) \n",
        "g.addEdge(2, 0) \n",
        "g.addEdge(2, 3) \n",
        "g.addEdge(3, 3) \n",
        "\n",
        "g.dfs()\n",
        "\n",
        "visited = [False] * (g.numNodes) \n",
        "g._dfs(2,visited)"
      ],
      "execution_count": 55,
      "outputs": [
        {
          "output_type": "stream",
          "text": [
            "dfs traversal:\n",
            "0 1 2 3 \n",
            "2 0 1 3 "
          ],
          "name": "stdout"
        }
      ]
    }
  ]
}