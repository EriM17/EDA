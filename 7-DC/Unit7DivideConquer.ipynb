{
  "nbformat": 4,
  "nbformat_minor": 0,
  "metadata": {
    "colab": {
      "name": "Unit7DivideConquer.ipynb",
      "provenance": [],
      "collapsed_sections": [],
      "include_colab_link": true
    },
    "kernelspec": {
      "name": "python3",
      "display_name": "Python 3"
    }
  },
  "cells": [
    {
      "cell_type": "markdown",
      "metadata": {
        "id": "view-in-github",
        "colab_type": "text"
      },
      "source": [
        "<a href=\"https://colab.research.google.com/github/isegura/EDA/blob/master/Unit7DivideConquer.ipynb\" target=\"_parent\"><img src=\"https://colab.research.google.com/assets/colab-badge.svg\" alt=\"Open In Colab\"/></a>"
      ]
    },
    {
      "cell_type": "markdown",
      "metadata": {
        "id": "h8DDE22ayxJD",
        "colab_type": "text"
      },
      "source": [
        "# Divide and Conquer\n",
        "\n",
        "## 1) Mayor elemento de un array\n",
        "\n"
      ]
    },
    {
      "cell_type": "code",
      "metadata": {
        "id": "B0-K6usHLOnV",
        "colab_type": "code",
        "colab": {}
      },
      "source": [
        "def findMax(A):\n",
        "    \"\"\"returns the greatest element of A\"\"\"\n",
        "    #A none or A=[]\n",
        "    if A==None or len(A)==0:\n",
        "        return None\n",
        "\n",
        "    #base case\n",
        "    if len(A)==1:\n",
        "        return A[0]\n",
        "\n",
        "    #Recursive case\n",
        "    #dividir\n",
        "    m=len(A)//2\n",
        "    part1=A[0:m]\n",
        "    part2=A[m:]\n",
        "\n",
        "    #vencer\n",
        "    mayor1=findMax(part1) #el mayor del array part1\n",
        "    mayor2=findMax(part2)  #el mayor del array part2\n",
        "    #combinar\n",
        "    return max(mayor1,mayor2)\n",
        "\n",
        "\n",
        "\n",
        "\n"
      ],
      "execution_count": 0,
      "outputs": []
    },
    {
      "cell_type": "code",
      "metadata": {
        "id": "UyehMg-e9j0h",
        "colab_type": "code",
        "colab": {}
      },
      "source": [
        "def merge(lista1,lista2):\n",
        "    #lsita1 y lista2 están ordenadas!!!\n",
        "    #devolver la lista ordenada\n",
        "    result=[]\n",
        "    i=0 #lista 1\n",
        "    j=0 #lista 2\n",
        "\n",
        "    while i<len(lista1) and j<len(lista2):\n",
        "        if lista1[i]<=lista2[j]:\n",
        "            result.append(lista1[i])\n",
        "            i+=1\n",
        "        else: #lista1[i]>lista2[j]\n",
        "            result.append(lista2[j])\n",
        "            j+=1\n",
        "\n",
        "    while i<len(lista1):\n",
        "        result.append(lista1[i])\n",
        "        i+=1\n",
        "\n",
        "    while j<len(lista2):\n",
        "        result.append(lista2[j])\n",
        "        j+=1\n",
        "\n",
        "    return result\n",
        "\n",
        "def mergesort(A):\n",
        "    if A==None or len(A)==0:\n",
        "        return A\n",
        "    \n",
        "    if len(A)==1:\n",
        "        return A\n",
        "\n",
        "    #case recursivo\n",
        "    #dividir\n",
        "    m=len(A)//2\n",
        "    part1=A[0:m]\n",
        "    part2=A[m:]\n",
        "\n",
        "    #vencer\n",
        "    sorted1=mergesort(part1)\n",
        "    sorted2=mergesort(part2)\n",
        "\n",
        "    result=merge(sorted1,sorted2)\n",
        "\n",
        "    return result\n",
        "\n",
        "\n",
        "\n",
        "\n"
      ],
      "execution_count": 0,
      "outputs": []
    },
    {
      "cell_type": "code",
      "metadata": {
        "id": "nwQrmoreLYdA",
        "colab_type": "code",
        "outputId": "a49d0149-a557-40e4-dd96-58cb131337f3",
        "colab": {
          "base_uri": "https://localhost:8080/",
          "height": 35
        }
      },
      "source": [
        "#Test\n",
        "A=[5,7,1,2,4,0,3,9,10,2,3,5]\n",
        "\n",
        "print(mergesort(A))\n",
        "\n"
      ],
      "execution_count": 0,
      "outputs": [
        {
          "output_type": "stream",
          "text": [
            "[0, 1, 2, 2, 3, 3, 4, 5, 5, 7, 9, 10]\n"
          ],
          "name": "stdout"
        }
      ]
    },
    {
      "cell_type": "code",
      "metadata": {
        "id": "h5DR-hdOK_fw",
        "colab_type": "code",
        "outputId": "6c92a237-6c15-4cf6-fedf-352a97c757b3",
        "colab": {
          "base_uri": "https://localhost:8080/",
          "height": 35
        }
      },
      "source": [
        "from random import randint\n",
        "#Test \n",
        "data=[]\n",
        "for i in range(10):\n",
        "  data.append(randint(-50,50))\n",
        "  \n",
        "print(\"The maximum element in {} is {} \".format(data,findMax(data)))\n"
      ],
      "execution_count": 0,
      "outputs": [
        {
          "output_type": "stream",
          "text": [
            "The maximum element in [22, 14, 4, -6, 26, -47, 27, 29, -38, 40] is 40 \n"
          ],
          "name": "stdout"
        }
      ]
    },
    {
      "cell_type": "markdown",
      "metadata": {
        "id": "5vHjJwZZ2aBm",
        "colab_type": "text"
      },
      "source": [
        "## Binary search\n",
        "\n",
        "Given a **sorted list** and a number, x, return True if x is found, False otherwise."
      ]
    },
    {
      "cell_type": "code",
      "metadata": {
        "id": "cFdjZDPnMSZW",
        "colab_type": "code",
        "colab": {}
      },
      "source": [
        "def binarySearch(A,x):\n",
        "    \"\"\"A is a sorted array. \n",
        "    It returns True if x is found, False eoc.\"\"\"\n",
        "    if A==None:\n",
        "        return False\n",
        "        \n",
        "    #base case\n",
        "    if len(A)==0:\n",
        "        return False\n",
        "    #recursive case\n",
        "    m=len(A)//2\n",
        "\n",
        "    if x==A[m]:\n",
        "        return True\n",
        "\n",
        "    if x<A[m]:\n",
        "        return binarySearch(A[0:m],x)\n",
        "\n",
        "    if x>A[m]:\n",
        "        return binarySearch(A[m+1:],x)\n"
      ],
      "execution_count": 0,
      "outputs": []
    },
    {
      "cell_type": "code",
      "metadata": {
        "id": "jMg17hmlMuaf",
        "colab_type": "code",
        "outputId": "b30abb1c-c0fd-4d17-d51b-6b30b527d86d",
        "colab": {
          "base_uri": "https://localhost:8080/",
          "height": 87
        }
      },
      "source": [
        "#Test\n",
        "A=[1, 4, 38, 39, 40, 61, 69, 71, 81, 87]\n",
        "\n",
        "x=71 #an element that exists\n",
        "print(\"binarySearch({},{})={}\\n\".format(A,x,binarySearch(A,x)))\n",
        "\n",
        "#An element that does not exist\n",
        "x=50\n",
        "print(\"binarySearch({},{})={}\\n\".format(A,x,binarySearch(A,x)))\n"
      ],
      "execution_count": 0,
      "outputs": [
        {
          "output_type": "stream",
          "text": [
            "binarySearch([1, 4, 38, 39, 40, 61, 69, 71, 81, 87],71)=True\n",
            "\n",
            "binarySearch([1, 4, 38, 39, 40, 61, 69, 71, 81, 87],50)=False\n",
            "\n"
          ],
          "name": "stdout"
        }
      ]
    },
    {
      "cell_type": "code",
      "metadata": {
        "id": "vWmlByOMHYg4",
        "colab_type": "code",
        "outputId": "88fc2a40-9635-4605-a183-d9226ade33ba",
        "colab": {
          "base_uri": "https://localhost:8080/",
          "height": 191
        }
      },
      "source": [
        "#we randomly create a list \n",
        "data=[]\n",
        "for i in range(10):\n",
        "    data.append(randint(0,100))\n",
        "#we sort it\n",
        "data.sort()\n",
        "\n",
        "\n",
        "for i in range(5):\n",
        "    x=randint(0,100)\n",
        "    print(\"binarySearch({},{})={}\\n\".format(data,x,binarySearch(data,x)))\n"
      ],
      "execution_count": 0,
      "outputs": [
        {
          "output_type": "stream",
          "text": [
            "binarySearch([5, 12, 19, 20, 27, 28, 56, 79, 94, 97],22)=False\n",
            "\n",
            "binarySearch([5, 12, 19, 20, 27, 28, 56, 79, 94, 97],90)=False\n",
            "\n",
            "binarySearch([5, 12, 19, 20, 27, 28, 56, 79, 94, 97],27)=True\n",
            "\n",
            "binarySearch([5, 12, 19, 20, 27, 28, 56, 79, 94, 97],2)=False\n",
            "\n",
            "binarySearch([5, 12, 19, 20, 27, 28, 56, 79, 94, 97],71)=False\n",
            "\n"
          ],
          "name": "stdout"
        }
      ]
    },
    {
      "cell_type": "markdown",
      "metadata": {
        "id": "6Tp3aivi0kBc",
        "colab_type": "text"
      },
      "source": [
        "Implementa una función que reciba un **array  ordenado de enteros** A y un valor x, y **devuelva el índice de x en el array A**. Si x no existe, la función devuelve -1. No está permitido aplicar slicing (es decir, expresiones del tipo A[0:m] o A[m:]) ni crear sublistas auxiliares."
      ]
    },
    {
      "cell_type": "code",
      "metadata": {
        "id": "DW56ofpaeWwe",
        "colab_type": "code",
        "colab": {}
      },
      "source": [
        "def binarySearch(A,x,start=0,end=len(A)-1):\n",
        "    \"\"\"returns the index of x in A. \"\"\"\n",
        "    #base case\n",
        "    if A==None or len(A)==0:\n",
        "        return -1\n",
        "    #recursive case\n",
        "\n",
        "    m=(start+end)//2\n",
        "    if x==A[m]:\n",
        "        return m\n",
        "\n",
        "    if x<A[m]:\n",
        "        return binarySearch(A,x,start,m-1)\n",
        "    if x>A[m]:\n",
        "        return binarySearch(A,x,m+1,end)\n",
        "\n"
      ],
      "execution_count": 0,
      "outputs": []
    },
    {
      "cell_type": "code",
      "metadata": {
        "id": "qo0P2pJTe0UF",
        "colab_type": "code",
        "outputId": "69e1ef99-e766-411e-92a3-b69560813cb0",
        "colab": {
          "base_uri": "https://localhost:8080/",
          "height": 191
        }
      },
      "source": [
        "A=[1,2,3,4,5,6,7,8,9]\n",
        "x=4 #index=3\n",
        "print(binarySearch(A,x))\n",
        "for x in A:\n",
        "    print(binarySearch(A,x),A.index(x))\n"
      ],
      "execution_count": 0,
      "outputs": [
        {
          "output_type": "stream",
          "text": [
            "3\n",
            "0 0\n",
            "1 1\n",
            "2 2\n",
            "3 3\n",
            "4 4\n",
            "5 5\n",
            "6 6\n",
            "7 7\n",
            "8 8\n"
          ],
          "name": "stdout"
        }
      ]
    },
    {
      "cell_type": "markdown",
      "metadata": {
        "id": "puGMGBWFNbSF",
        "colab_type": "text"
      },
      "source": [
        "## Suma de los elementos de un array\n",
        "\n",
        "Implementa una función que reciba un array de enteros y devuelva su suma (aplicando divide y vencerás).\n",
        "\n"
      ]
    },
    {
      "cell_type": "code",
      "metadata": {
        "id": "Cvozia2LdEw4",
        "colab_type": "code",
        "colab": {}
      },
      "source": [
        "def sumaArray(A):\n",
        "\n",
        "    if A==None or len(A)==0:\n",
        "        return 0\n",
        "        \n",
        "    #base case\n",
        "    if len(A)==1:\n",
        "        return A[0]\n",
        "\n",
        "    #recursive case\n",
        "\n",
        "    #dividir\n",
        "    m=len(A)//2\n",
        "    part1=A[0:m]\n",
        "    part2=A[m:]\n",
        "\n",
        "    #vencer\n",
        "    sum1=sumaArray(part1)\n",
        "    sum2=sumaArray(part2)\n",
        "    \n",
        "    #combinar\n",
        "    return sum1+sum2\n"
      ],
      "execution_count": 0,
      "outputs": []
    },
    {
      "cell_type": "code",
      "metadata": {
        "id": "CVC1Yf2hdjMe",
        "colab_type": "code",
        "outputId": "c4c36b79-0b5d-471f-b24a-17f2cc07dfcc",
        "colab": {
          "base_uri": "https://localhost:8080/",
          "height": 52
        }
      },
      "source": [
        "A=[1,0,3,5,2,4,5]\n",
        "print(sum(A))\n",
        "print(sumaArray(A))\n"
      ],
      "execution_count": 0,
      "outputs": [
        {
          "output_type": "stream",
          "text": [
            "20\n",
            "20\n"
          ],
          "name": "stdout"
        }
      ]
    },
    {
      "cell_type": "markdown",
      "metadata": {
        "id": "sAww3w1pZp4F",
        "colab_type": "text"
      },
      "source": [
        "## Mergesort\n"
      ]
    },
    {
      "cell_type": "code",
      "metadata": {
        "id": "k3yYBVfvij2h",
        "colab_type": "code",
        "colab": {}
      },
      "source": [
        "def merge(l1,l2):\n",
        "    \"\"\"l1 y l2 están ordenados. Devolver un nuevo array ordenado\"\"\"\n",
        "    result=[]\n",
        "    i=0#movernos por la lista l1\n",
        "    j=0 #movernos por la lsita l2\n",
        "    while i<len(l1) and j<len(l2):\n",
        "        if l1[i]<l2[j]:\n",
        "            result.append(l1[i])\n",
        "            i+=1\n",
        "        else: #l1[i]>=l2[j]\n",
        "            result.append(l2[j])\n",
        "            j+=1\n",
        "\n",
        "\n",
        "    while i<len(l1): #se aplicará cuando aún queden elementos en l1\n",
        "        result.append(l1[i])\n",
        "        i+=1\n",
        "\n",
        "    while j<len(l2): #se aplicará cuando aún queden elementos en l1\n",
        "        result.append(l2[j])\n",
        "        j+=1\n",
        "\n",
        "    return result\n",
        "\n",
        "\n",
        "def mergesort(A):\n",
        "\n",
        "    if A==None or len(A)<=1:\n",
        "        return A\n",
        "        \n",
        "    if len(A)>1:\n",
        "        #recursive case\n",
        "        m=len(A)//2\n",
        "        part1=A[0:m]\n",
        "        part2=A[m:]\n",
        "\n",
        "        sorted1=mergesort(part1)\n",
        "        sorted2=mergesort(part2)\n",
        "\n",
        "        return merge(sorted1,sorted2)\n",
        "   \n",
        "\n",
        "\n",
        "\n"
      ],
      "execution_count": 0,
      "outputs": []
    },
    {
      "cell_type": "code",
      "metadata": {
        "id": "i0lg7FaTI1Fg",
        "colab_type": "code",
        "outputId": "a58571a0-2a9b-4072-d47a-168e8ba02037",
        "colab": {
          "base_uri": "https://localhost:8080/",
          "height": 52
        }
      },
      "source": [
        "#Test mergesort\n",
        "A = []\n",
        "for i in range(0, 11):\n",
        "    A.append(randint(0, 100))\n",
        "\n",
        "\n",
        "#A=[5, 10, 1, 1, 10, 2, 2, 6, 10, 3]\n",
        "print('input=',A)\n",
        "print(\"sorted=\",mergesort(A))\n"
      ],
      "execution_count": 0,
      "outputs": [
        {
          "output_type": "stream",
          "text": [
            "input= [41, 14, 32, 14, 38, 47, 67, 22, 46, 14, 45]\n",
            "sorted= [14, 14, 14, 22, 32, 38, 41, 45, 46, 47, 67]\n"
          ],
          "name": "stdout"
        }
      ]
    },
    {
      "cell_type": "markdown",
      "metadata": {
        "id": "S2vxUynN47xR",
        "colab_type": "text"
      },
      "source": [
        "## Quicksort\n",
        "\n"
      ]
    },
    {
      "cell_type": "code",
      "metadata": {
        "id": "ydXKsPYB49Pf",
        "colab_type": "code",
        "colab": {}
      },
      "source": [
        "def quicksort(A):\n",
        "    _quicksort(A,0,len(A)-1)\n",
        "    \n",
        "    \n",
        "def _quicksort(A, left, right):\n",
        "    i = left\n",
        "    j = right\n",
        "    \n",
        "    m=(left + right) // 2\n",
        "    \n",
        "    p = A[m] # pivot element in the middle\n",
        "    \n",
        "    while i <= j:\n",
        "        while A[i] < p: \n",
        "          i += 1\n",
        "\n",
        "        #estoy en un i cuyo valor es mayor que p\n",
        "\n",
        "        while A[j] > p: \n",
        "          j -= 1\n",
        "\n",
        "        #llego un j cuyo valor es menor que p\n",
        "\n",
        "        if i <= j: # swap \n",
        "            A[i], A[j] = A[j], A[i]\n",
        "\n",
        "            i += 1\n",
        "            j -= 1\n",
        "\n",
        "    if left < j: # sort left list\n",
        "        _quicksort(A, left, j)\n",
        "    if i < right: # sort right list\n",
        "        _quicksort(A, i, right)\n",
        "\n"
      ],
      "execution_count": 0,
      "outputs": []
    },
    {
      "cell_type": "code",
      "metadata": {
        "id": "z9l61uRgOiCd",
        "colab_type": "code",
        "outputId": "b6acea40-f9e0-45a7-ce99-b78e3ce81b69",
        "colab": {
          "base_uri": "https://localhost:8080/",
          "height": 52
        }
      },
      "source": [
        "#Test quicksort\n",
        "import random\n",
        "data = []\n",
        "for i in range(0, 11):\n",
        "    data.append(random.randint(0, 100))\n",
        "\n",
        "\n",
        "print('input:',data)\n",
        "quicksort(data)\n",
        "print('sorted:',data)\n"
      ],
      "execution_count": 0,
      "outputs": [
        {
          "output_type": "stream",
          "text": [
            "input: [69, 84, 54, 54, 22, 37, 88, 12, 100, 64, 6]\n",
            "sorted: [6, 12, 22, 37, 54, 54, 64, 69, 84, 88, 100]\n"
          ],
          "name": "stdout"
        }
      ]
    },
    {
      "cell_type": "markdown",
      "metadata": {
        "id": "QYcBL9360xMH",
        "colab_type": "text"
      },
      "source": [
        "#Problemas propuestos (ídeas para el examen)\n",
        "\n",
        "1) Implementa una función que devuelva **el elemento más pequeño** en una lista de Python.\n",
        "\n",
        "2) Implementa una función que devuelva **el número par más pequeño** en una lista de Python. Si la lista no contiene valores pares debe devolver None.\n",
        "\n",
        "3) Implementa una función que devuelva **los números par e impar más pequeños** de una lista de Python. Si alguno de esos dos valores no existen, devuelve None.\n",
        "\n",
        "4) Implementa una función basada en divide y vencerás que **sume los elementos múltiplos de 5 **en una array.\n",
        "\n",
        "5) Implementa una función basada en divide y vencerás que reciba una lista de strings y que devuelva la **palabra con mayor longitud**. \n",
        "\n",
        "6) Implementa una función basada en divide y vencerás que reciba una lista de strings y **devuelva una lista con los strings que tengan longitud menor o igual que 2**. \n",
        "\n",
        "7) Implementa el algoritmo de **mergesort** adaptado para **listas enlazadas**. \n",
        "\n",
        "8) Implementa una versión de **quicksort** versión tomando el **primer elemento como pivote**. Te recomiendo que primero visualices este video https://www.youtube.com/watch?v=ywWBy6J5gz8&t=121s (pivote primer elemento)\n",
        "\n",
        "\n",
        "9) Implementa una versión del quicksort que tome como el **último elemento como pivote**. Te recomiendo que primero visualices este vídeo: https://www.youtube.com/watch?v=biOjCLbdr7Y&t=37s (pivote último elemento)\n",
        "\n",
        "\n",
        "10) Implementa una versión del quicksort que tome como un **pivote aleatorio**. En este link, puedes encontrar el pseudocódigo para comprobar si vas por buen camino: https://www.geeksforgeeks.org/quicksort-using-random-pivoting/\n"
      ]
    },
    {
      "cell_type": "markdown",
      "metadata": {
        "id": "LzWy5VGuaTpu",
        "colab_type": "text"
      },
      "source": [
        "### Nota: Las funciones Python pueden devolver múltiples valores (problema 3)\n"
      ]
    },
    {
      "cell_type": "code",
      "metadata": {
        "id": "dxsMJ3a2Z283",
        "colab_type": "code",
        "outputId": "8b492276-88ae-449e-977a-ffb1a5d337e8",
        "colab": {
          "base_uri": "https://localhost:8080/",
          "height": 52
        }
      },
      "source": [
        "def getMaxMin(A):\n",
        "    maximo=max(A)\n",
        "    minimo=min(A)\n",
        "    return maximo,minimo\n",
        "\n",
        "A=[22, 14, 4, -6, 26, -47, 27, 29, -38, 40]\n",
        "x,y=getMaxMin(A)\n",
        "print('máximo:',x)\n",
        "print('mínimo:',y)"
      ],
      "execution_count": 0,
      "outputs": [
        {
          "output_type": "stream",
          "text": [
            "máximo: 40\n",
            "mínimo: -47\n"
          ],
          "name": "stdout"
        }
      ]
    },
    {
      "cell_type": "markdown",
      "metadata": {
        "id": "NF1IdvNLe1DV",
        "colab_type": "text"
      },
      "source": [
        "## Quicksort with random \n",
        "\n"
      ]
    },
    {
      "cell_type": "code",
      "metadata": {
        "id": "9mvffT2re4jR",
        "colab_type": "code",
        "colab": {}
      },
      "source": [
        "# Python implementation QuickSort using  \n",
        "# Lomuto's partition Scheme. \n",
        "import random \n",
        "  \n",
        "''' \n",
        "The function which implements QuickSort. \n",
        "arr :- array to be sorted. \n",
        "start :- starting index of the array. \n",
        "stop :- ending index of the array. \n",
        "'''\n",
        "def quicksort(arr, start , stop): \n",
        "    if(start < stop): \n",
        "          \n",
        "        # pivotindex is the index where  \n",
        "        # the pivot lies in the array \n",
        "        pivotindex = partitionrand(arr, start, stop) \n",
        "          \n",
        "        # At this stage the array is partially sorted  \n",
        "        # around the pivot. Separately sorting the  \n",
        "        # left half of the array and the right half of the array. \n",
        "        quicksort(arr , start , pivotindex - 1) \n",
        "        quicksort(arr, pivotindex + 1, stop) \n",
        "  \n",
        "# This function generates random pivot, swaps the first \n",
        "# element with the pivot and calls the partition fucntion. \n",
        "def partitionrand(arr , start, stop): \n",
        "  \n",
        "    # Generating a random number between the  \n",
        "    # starting index of the array and the \n",
        "    # ending index of the array. \n",
        "    randpivot = random.randrange(start, stop) \n",
        "  \n",
        "    # Swapping the starting element of the array and the pivot \n",
        "    arr[start], arr[randpivot] = arr[randpivot], arr[start] \n",
        "    return partition(arr, start, stop) \n",
        "  \n",
        "''' \n",
        "This function takes the first element as pivot,  \n",
        "places the pivot element at the correct position  \n",
        "in the sorted array. All the elements are re-arranged  \n",
        "according to the pivot, the elements smaller than the \n",
        "pivot is places on the left and the elements \n",
        "greater than the pivot is placed to the right of pivot. \n",
        "'''\n",
        "def partition(arr,start,stop): \n",
        "    pivot = start # pivot \n",
        "    i = start + 1 # a variable to memorize where the  \n",
        "                  # partition in the array starts from. \n",
        "    for j in range(start + 1, stop + 1): \n",
        "          \n",
        "        # if the current element is smaller or equal to pivot, \n",
        "        # shift it to the left side of the partition. \n",
        "        if arr[j] <= arr[pivot]: \n",
        "            arr[i] , arr[j] = arr[j] , arr[i] \n",
        "            i = i + 1\n",
        "    arr[pivot] , arr[i - 1] = arr[i - 1] , arr[pivot] \n",
        "    pivot = i - 1\n",
        "    return (pivot) \n",
        "  \n",
        "# Driver Code \n",
        "if __name__ == \"__main__\": \n",
        "    array = [10, 7, 8, 9, 1, 5] \n",
        "    quicksort(array, 0, len(array) - 1) \n",
        "    print(array) \n",
        "  "
      ],
      "execution_count": 0,
      "outputs": []
    },
    {
      "cell_type": "markdown",
      "metadata": {
        "id": "rUec6Hk1mRei",
        "colab_type": "text"
      },
      "source": [
        "## Implementation of quicksort using the first element as pivot\n"
      ]
    },
    {
      "cell_type": "code",
      "metadata": {
        "id": "7T5xuOCrmWyY",
        "colab_type": "code",
        "colab": {}
      },
      "source": [
        "def partition(A):\n",
        "\n",
        "    lower=[]\n",
        "    greater=[]\n",
        "    p=A[0] #the pivot is the first element\n",
        "    \n",
        "    for i in range(1, len(A)):\n",
        "        if A[i]<p:\n",
        "            lower.append(A[i])\n",
        "        else:\n",
        "            greater.append(A[i])\n",
        "            \n",
        "    return (lower, p, greater)\n",
        "\n",
        "def quicksort_first(A):\n",
        "    if len(A)<2:\n",
        "        return A\n",
        "\n",
        "    lower, p, greater=  partition(A) \n",
        "    \n",
        "    return quicksort_first(lower)+[p]+quicksort_first(greater)\n",
        "\n",
        "\n"
      ],
      "execution_count": 0,
      "outputs": []
    },
    {
      "cell_type": "code",
      "metadata": {
        "id": "Nf8Z9aoSm89E",
        "colab_type": "code",
        "colab": {
          "base_uri": "https://localhost:8080/",
          "height": 52
        },
        "outputId": "979a01b4-6934-4faf-ea7b-e1625209ebea"
      },
      "source": [
        "import random \n",
        "A=[]\n",
        "for i in range(15):\n",
        "    A.append(random.randint(-20,20))\n",
        "\n",
        "print(A)\n",
        "print(quicksort_first(A))"
      ],
      "execution_count": 7,
      "outputs": [
        {
          "output_type": "stream",
          "text": [
            "[2, 6, -3, 10, -8, -9, 12, 12, -9, 9, 18, -12, -20, 1, -3]\n",
            "[-20, -12, -9, -9, -8, -3, -3, 1, 2, 6, 9, 10, 12, 12, 18]\n"
          ],
          "name": "stdout"
        }
      ]
    },
    {
      "cell_type": "markdown",
      "metadata": {
        "id": "iDUCKXAQnZsI",
        "colab_type": "text"
      },
      "source": [
        "## Implementation of quicksort using the last element as pivot\n",
        "\n"
      ]
    },
    {
      "cell_type": "code",
      "metadata": {
        "id": "Azt9yO2JnifW",
        "colab_type": "code",
        "colab": {}
      },
      "source": [
        "def partition(A):\n",
        "\n",
        "    lower=[]\n",
        "    greater=[]\n",
        "    p=A[-1] #the pivot is the last element\n",
        "    \n",
        "    for i in range(0, len(A)-1):\n",
        "        if A[i]<p:\n",
        "            lower.append(A[i])\n",
        "        else:\n",
        "            greater.append(A[i])\n",
        "            \n",
        "    return (lower, p, greater)\n",
        "\n",
        "def quicksort_last(A):\n",
        "    if len(A)<2:\n",
        "        return A\n",
        "\n",
        "    lower, p, greater=  partition(A) \n",
        "    \n",
        "    return quicksort_last(lower)+[p]+quicksort_last(greater)\n"
      ],
      "execution_count": 0,
      "outputs": []
    },
    {
      "cell_type": "code",
      "metadata": {
        "id": "pQil7zFDnyy0",
        "colab_type": "code",
        "colab": {
          "base_uri": "https://localhost:8080/",
          "height": 52
        },
        "outputId": "71925742-b838-45c1-9d17-28674ef66e12"
      },
      "source": [
        "import random \n",
        "A=[]\n",
        "for i in range(15):\n",
        "    A.append(random.randint(-20,20))\n",
        "\n",
        "print(A)\n",
        "print(quicksort_last(A))"
      ],
      "execution_count": 16,
      "outputs": [
        {
          "output_type": "stream",
          "text": [
            "[-17, -6, 8, 20, -18, 20, -16, 4, -13, -17, 5, -8, 17, 7, 2]\n",
            "[-18, -17, -17, -16, -13, -8, -6, 2, 4, 5, 7, 8, 17, 20, 20]\n"
          ],
          "name": "stdout"
        }
      ]
    },
    {
      "cell_type": "markdown",
      "metadata": {
        "id": "8hVyTgISoE45",
        "colab_type": "text"
      },
      "source": [
        "## Implementation of quicksort using a random pivot"
      ]
    },
    {
      "cell_type": "code",
      "metadata": {
        "id": "qmL2FhbKpOc_",
        "colab_type": "code",
        "colab": {}
      },
      "source": [
        "def quicksortRand(A):\n",
        "    _quicksortRand(A,0,len(A)-1)\n",
        "    \n",
        "def _quicksortRand(A, left, right):\n",
        "    \n",
        "    i,j=left,right\n",
        "    p = A[random.randint(left,right)] # pivot is random element\n",
        "    \n",
        "    while i <= j:\n",
        "        while A[i] < p: \n",
        "          i += 1\n",
        "        while A[j] > p: \n",
        "          j -= 1\n",
        "        if i <= j: # swap \n",
        "            A[i], A[j] = A[j], A[i]\n",
        "            i += 1\n",
        "            j -= 1\n",
        "\n",
        "    if left < j: # sort left list\n",
        "        _quicksortRand(A, left, j)\n",
        "    if i < right: # sort right list\n",
        "        _quicksortRand(A, i, right)\n"
      ],
      "execution_count": 0,
      "outputs": []
    },
    {
      "cell_type": "code",
      "metadata": {
        "id": "RYGABJltpZFo",
        "colab_type": "code",
        "colab": {
          "base_uri": "https://localhost:8080/",
          "height": 52
        },
        "outputId": "7e85a66f-8153-450b-cc9e-78bea53b4648"
      },
      "source": [
        "import random \n",
        "A=[]\n",
        "for i in range(15):\n",
        "    A.append(random.randint(-20,20))\n",
        "\n",
        "print(A)\n",
        "quicksortRand(A)\n",
        "print(A)"
      ],
      "execution_count": 37,
      "outputs": [
        {
          "output_type": "stream",
          "text": [
            "[-2, -15, 17, 15, 12, 13, 0, 7, 9, 8, -2, 9, -13, 6, 4]\n",
            "[-15, -13, -2, -2, 0, 4, 6, 7, 8, 9, 9, 12, 13, 15, 17]\n"
          ],
          "name": "stdout"
        }
      ]
    }
  ]
}
