{
  "nbformat": 4,
  "nbformat_minor": 0,
  "metadata": {
    "colab": {
      "name": "graph-dictionaryWD.ipynb",
      "provenance": [],
      "collapsed_sections": [],
      "authorship_tag": "ABX9TyPplaT7zjjKky6NbQLwWdJy",
      "include_colab_link": true
    },
    "kernelspec": {
      "name": "python3",
      "display_name": "Python 3"
    }
  },
  "cells": [
    {
      "cell_type": "markdown",
      "metadata": {
        "id": "view-in-github",
        "colab_type": "text"
      },
      "source": [
        "<a href=\"https://colab.research.google.com/github/isegura/EDA/blob/master/graph_dictionaryWD.ipynb\" target=\"_parent\"><img src=\"https://colab.research.google.com/assets/colab-badge.svg\" alt=\"Open In Colab\"/></a>"
      ]
    },
    {
      "cell_type": "markdown",
      "metadata": {
        "id": "uQxlfbU9HpDd",
        "colab_type": "text"
      },
      "source": [
        "# Graph implementation using a Python dictionary\n",
        "\n",
        "This implementation allows to represent any kind of graphs. "
      ]
    },
    {
      "cell_type": "code",
      "metadata": {
        "id": "vZEDjAUpHoda",
        "colab_type": "code",
        "colab": {}
      },
      "source": [
        "class AdjacentVertex:\n",
        "    def __init__(self,vertex,weight):\n",
        "        self.vertex=vertex\n",
        "        self.weight=weight\n",
        "  \n",
        "    def __str__(self):\n",
        "        return '('+str(self.vertex)+','+str(self.weight)+')'\n",
        "\n",
        "class Graph():\n",
        "    def __init__(self,labels,directed=True):\n",
        "        self.labels=labels\n",
        "        self.vertices={}\n",
        "        for i in range(len(self.labels)):\n",
        "            self.vertices[i]=[]\n",
        "        self.directed=directed\n",
        "    \n",
        "    def _getIndex(self,v):\n",
        "        index=-1\n",
        "        try:\n",
        "            index=self.labels.index(v)\n",
        "        except:\n",
        "            print(v,' is not a vertex!!!')\n",
        "            pass\n",
        "        return index \n",
        "\n",
        "    def addEdge(self, start, end, weight=0):\n",
        "        index_start=self._getIndex(start)\n",
        "        index_end=self._getIndex(end)\n",
        "\n",
        "        if index_start==-1 or index_end==-1:\n",
        "            return\n",
        "        \n",
        "        if self.containsEdge(start,end)==0:\n",
        "            self.vertices[index_start].append(AdjacentVertex(index_end,weight))\n",
        "        if self.directed==False:\n",
        "            self.vertices[index_end].append(AdjacentVertex(index_start,weight))\n",
        "      \n",
        "    def containsEdge(self, start, end):\n",
        "        index_start=self._getIndex(start)\n",
        "        index_end=self._getIndex(end)\n",
        "\n",
        "        if index_start==-1 or index_end==-1:\n",
        "            return 0\n",
        "        for adj in self.vertices[index_start]:\n",
        "            if adj.vertex==index_end:\n",
        "                return adj.weight\n",
        "        return 0\n",
        "\n",
        "    def removeEdge(self,start,end):\n",
        "        index_start=self._getIndex(start)\n",
        "        index_end=self._getIndex(end)\n",
        "\n",
        "        if index_start==-1 or index_end==-1:\n",
        "            return\n",
        "\n",
        "        for adj in self.vertices[index_start]:\n",
        "            if adj.vertex==index_end:\n",
        "                self.vertices[index_start].remove(adj)\n",
        "        if self.directed==False:\n",
        "            for adj in self.vertices[index_end]:\n",
        "                if adj.vertex==index_start:\n",
        "                    self.vertices[index_end].remove(adj)\n",
        "  \n",
        "    def __str__(self):\n",
        "        result=''\n",
        "        for label in self.labels:\n",
        "            result+='\\n'+str(label)+':'\n",
        "            index=self._getIndex(label)\n",
        "            for adj in self.vertices[index]:\n",
        "                result+='('+self.labels[adj.vertex]+','+str(adj.weight)+')'\n",
        "            \n",
        "        return result\n"
      ],
      "execution_count": 0,
      "outputs": []
    },
    {
      "cell_type": "markdown",
      "metadata": {
        "id": "qFtBVTOP4qsL",
        "colab_type": "text"
      },
      "source": [
        "We use the implementation to represent an undirected graph without weights :\n",
        "\n",
        "\n",
        "<img src='https://computersciencesource.files.wordpress.com/2010/05/dfs_1.png' width='35%'/>"
      ]
    },
    {
      "cell_type": "code",
      "metadata": {
        "id": "39myJgKZ4smO",
        "colab_type": "code",
        "outputId": "d2f09dbf-cd07-43e8-f9fe-aa46b346926d",
        "colab": {
          "base_uri": "https://localhost:8080/",
          "height": 121
        }
      },
      "source": [
        "labels=['A','B','C','D','E']\n",
        "g=Graph(labels,False)\n",
        "g.addEdge('A','B') # A:0, B:1\n",
        "g.addEdge('A','C') # A:0, C:2\n",
        "g.addEdge('A','E') # A:0, E:5\n",
        "g.addEdge('B','D') # B:1, D:4\n",
        "g.addEdge('B','E') # C:2, B:1\n",
        "#g.addEdge('A','H',8)\n",
        "\n",
        "print(g)"
      ],
      "execution_count": 0,
      "outputs": [
        {
          "output_type": "stream",
          "text": [
            "\n",
            "A:(B,0)(C,0)(E,0)\n",
            "B:(A,0)(D,0)(E,0)\n",
            "C:(A,0)\n",
            "D:(B,0)\n",
            "E:(A,0)(B,0)\n"
          ],
          "name": "stdout"
        }
      ]
    },
    {
      "cell_type": "markdown",
      "metadata": {
        "id": "Erk_WZezKbxt",
        "colab_type": "text"
      },
      "source": [
        "Now, we use the implementation to represent this graph: \n",
        "\n",
        "<img src='https://upload.wikimedia.org/wikipedia/commons/thumb/b/bc/CPT-Graphs-directed-weighted-ex1.svg/722px-CPT-Graphs-directed-weighted-ex1.svg.png' width='25%'/>"
      ]
    },
    {
      "cell_type": "code",
      "metadata": {
        "id": "b2LDjiWdKffI",
        "colab_type": "code",
        "outputId": "5f50e887-d447-4606-e2b2-1cc3c7580164",
        "colab": {
          "base_uri": "https://localhost:8080/",
          "height": 121
        }
      },
      "source": [
        "labels=['A','B','C','D','E']\n",
        "\n",
        "g=Graph(labels)\n",
        "\n",
        "#Now, we add the edges\n",
        "g.addEdge('A','C',12) #A->(12)C\n",
        "g.addEdge('A','D',60) #A->(60)D\n",
        "g.addEdge('B','A',10) #B->(10)A\n",
        "g.addEdge('C','B',20) #C->(20)B\n",
        "g.addEdge('C','D',32) #C->(32)D\n",
        "g.addEdge('E','A',7)  #E->(7)A\n",
        "\n",
        "print(g)\n"
      ],
      "execution_count": 0,
      "outputs": [
        {
          "output_type": "stream",
          "text": [
            "\n",
            "A:(C,12)(D,60)\n",
            "B:(A,10)\n",
            "C:(B,20)(D,32)\n",
            "D:\n",
            "E:(A,7)\n"
          ],
          "name": "stdout"
        }
      ]
    }
  ]
}