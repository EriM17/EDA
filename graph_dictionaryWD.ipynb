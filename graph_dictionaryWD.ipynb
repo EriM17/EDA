{
  "nbformat": 4,
  "nbformat_minor": 0,
  "metadata": {
    "colab": {
      "name": "graph-dictionaryWD.ipynb",
      "provenance": [],
      "collapsed_sections": [],
      "authorship_tag": "ABX9TyPIjTEDcfJuw4Tq+7DKi+p9",
      "include_colab_link": true
    },
    "kernelspec": {
      "name": "python3",
      "display_name": "Python 3"
    }
  },
  "cells": [
    {
      "cell_type": "markdown",
      "metadata": {
        "id": "view-in-github",
        "colab_type": "text"
      },
      "source": [
        "<a href=\"https://colab.research.google.com/github/isegura/EDA/blob/master/graph_dictionaryWD.ipynb\" target=\"_parent\"><img src=\"https://colab.research.google.com/assets/colab-badge.svg\" alt=\"Open In Colab\"/></a>"
      ]
    },
    {
      "cell_type": "markdown",
      "metadata": {
        "id": "uQxlfbU9HpDd",
        "colab_type": "text"
      },
      "source": [
        "# Graph implementation using a Python dictionary\n",
        "\n",
        "This implementation allows to represent any kind of graphs. "
      ]
    },
    {
      "cell_type": "code",
      "metadata": {
        "id": "vZEDjAUpHoda",
        "colab_type": "code",
        "colab": {}
      },
      "source": [
        "class AdjacentVertex:\n",
        "  def __init__(self,vertex,weight):\n",
        "    self.vertex=vertex\n",
        "    self.weight=weight\n",
        "  \n",
        "  def __str__(self):\n",
        "    return '('+str(self.vertex)+','+str(self.weight)+')'\n",
        "\n",
        "class Graph():\n",
        "  def __init__(self,numNodes,directed=True):\n",
        "    self.vertices={}\n",
        "    for i in range(numNodes):\n",
        "      self.vertices[i]=[]\n",
        "    self.numNodes=numNodes\n",
        "    self.directed=directed\n",
        "    \n",
        "  def checkVertex(self,v):\n",
        "    return v>=0 and v<self.numNodes\n",
        "  \n",
        "  def addEdge(self, start, end, weight=0):\n",
        "    if self.checkVertex(start)==False or self.checkVertex(end)==False:\n",
        "      print('wrong vertices')\n",
        "    else:\n",
        "      if end not in self.vertices[start]:\n",
        "        self.vertices[start].append(AdjacentVertex(end,weight))\n",
        "        if self.directed==False:\n",
        "          self.vertices[end].append(AdjacentVertex(start,weight))\n",
        "\n",
        "        \n",
        "  def containsEdge(self, start, end):\n",
        "    if self.checkVertex(start)==False or self.checkVertex(end)==False:\n",
        "      print('wrong vertices')\n",
        "    else:\n",
        "      return end in self.vertices[start]\n",
        "  \n",
        "  def removeEdge(self,start,end):\n",
        "    if self.checkVertex(start)==False or self.checkVertex(end)==False:\n",
        "      print('wrong vertices')\n",
        "    else:\n",
        "      if end in self.vertices[start]:\n",
        "        self.vertices[start].remove(end)\n",
        "      if self.directed==False:\n",
        "          self.vertices[start].append(end)\n",
        "  \n",
        "  def __str__(self):\n",
        "    result=''\n",
        "    for vertex in self.vertices.keys():\n",
        "      result+=str(vertex)+':'\n",
        "      for adj in self.vertices[vertex]:\n",
        "        result+=str(adj)+','\n",
        "      if result[-1]==',':\n",
        "        result=result[:-1]\n",
        "      result+='\\n'\n",
        "    return result"
      ],
      "execution_count": 0,
      "outputs": []
    },
    {
      "cell_type": "code",
      "metadata": {
        "id": "sFOSe6hvKRkS",
        "colab_type": "code",
        "outputId": "626bc431-0ec9-4d16-812b-e49253a5ed9b",
        "colab": {
          "base_uri": "https://localhost:8080/",
          "height": 218
        }
      },
      "source": [
        "g=Graph(5)\n",
        "print(g)\n",
        "g.addEdge(0,1,4); # The 0th element is A. The 1st element is B\n",
        "print(g)"
      ],
      "execution_count": 19,
      "outputs": [
        {
          "output_type": "stream",
          "text": [
            "0:\n",
            "1:\n",
            "2:\n",
            "3:\n",
            "4:\n",
            "\n",
            "0:(1,4)\n",
            "1:\n",
            "2:\n",
            "3:\n",
            "4:\n",
            "\n"
          ],
          "name": "stdout"
        }
      ]
    },
    {
      "cell_type": "markdown",
      "metadata": {
        "id": "Erk_WZezKbxt",
        "colab_type": "text"
      },
      "source": [
        "Now, we use the implementation to represent this graph: \n",
        "\n",
        "<img src='https://upload.wikimedia.org/wikipedia/commons/thumb/b/bc/CPT-Graphs-directed-weighted-ex1.svg/722px-CPT-Graphs-directed-weighted-ex1.svg.png' width='25%'/>"
      ]
    },
    {
      "cell_type": "code",
      "metadata": {
        "id": "b2LDjiWdKffI",
        "colab_type": "code",
        "outputId": "64badf5a-0e6b-4874-b287-9136cf8d9624",
        "colab": {
          "base_uri": "https://localhost:8080/",
          "height": 118
        }
      },
      "source": [
        "#we use this dictionary to represent the vertices with numbers:\n",
        "v={'A':0,'B':1,'C':2,'D':3,'E':4}\n",
        "\n",
        "g=Graph(5,False)\n",
        "\n",
        "#Now, we add the edges\n",
        "g.addEdge(v['A'],v['C'],12) #A->(12)C\n",
        "g.addEdge(v['A'],v['D'],60) #A->(60)D\n",
        "g.addEdge(v['B'],v['A'],10) #B->(10)A\n",
        "g.addEdge(v['C'],v['B'],20) #C->(20)B\n",
        "g.addEdge(v['C'],v['D'],32) #C->(32)D\n",
        "g.addEdge(v['E'],v['A'],7)  #E->(7)A\n",
        "\n",
        "print(g)\n",
        "\n"
      ],
      "execution_count": 20,
      "outputs": [
        {
          "output_type": "stream",
          "text": [
            "0:(2,12),(3,60),(1,10),(4,7)\n",
            "1:(0,10),(2,20)\n",
            "2:(0,12),(1,20),(3,32)\n",
            "3:(0,60),(2,32)\n",
            "4:(0,7)\n",
            "\n"
          ],
          "name": "stdout"
        }
      ]
    }
  ]
}